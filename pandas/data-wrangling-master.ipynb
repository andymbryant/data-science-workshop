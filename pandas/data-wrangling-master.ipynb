{
 "cells": [
  {
   "cell_type": "code",
   "execution_count": 2,
   "metadata": {},
   "outputs": [],
   "source": [
    "import pandas as pd\n",
    "import matplotlib\n",
    "%matplotlib inline"
   ]
  },
  {
   "cell_type": "code",
   "execution_count": 3,
   "metadata": {},
   "outputs": [],
   "source": [
    "# Dataframe has index, as well as country and unemp_rate\n",
    "unemployment_df = pd.read_csv('./data/unemployment_2016.csv')"
   ]
  },
  {
   "cell_type": "code",
   "execution_count": 4,
   "metadata": {},
   "outputs": [
    {
     "data": {
      "text/plain": [
       "pandas.core.frame.DataFrame"
      ]
     },
     "execution_count": 4,
     "metadata": {},
     "output_type": "execute_result"
    }
   ],
   "source": [
    "type(unemployment_df)"
   ]
  },
  {
   "cell_type": "code",
   "execution_count": 5,
   "metadata": {},
   "outputs": [],
   "source": [
    "countries = unemployment_df['country']"
   ]
  },
  {
   "cell_type": "code",
   "execution_count": 6,
   "metadata": {},
   "outputs": [
    {
     "data": {
      "text/plain": [
       "pandas.core.series.Series"
      ]
     },
     "execution_count": 6,
     "metadata": {},
     "output_type": "execute_result"
    }
   ],
   "source": [
    "type(countries)"
   ]
  },
  {
   "cell_type": "code",
   "execution_count": 7,
   "metadata": {},
   "outputs": [],
   "source": [
    "unemployment_rates = unemployment_df['unemp_rate']"
   ]
  },
  {
   "cell_type": "code",
   "execution_count": 8,
   "metadata": {},
   "outputs": [],
   "source": [
    "avg_unemployment = unemployment_rates.mean()"
   ]
  },
  {
   "cell_type": "code",
   "execution_count": 9,
   "metadata": {},
   "outputs": [],
   "source": [
    "unemployment_sorted_asc = unemployment_df.sort_values('unemp_rate', ascending=True)\n",
    "# The default is ascending, how do we make it descending?"
   ]
  },
  {
   "cell_type": "code",
   "execution_count": 10,
   "metadata": {},
   "outputs": [],
   "source": [
    "lowest_unemployment = unemployment_sorted_asc.head()"
   ]
  },
  {
   "cell_type": "markdown",
   "metadata": {},
   "source": [
    "### What seven countries have the highest unemployment in Europe?"
   ]
  },
  {
   "cell_type": "code",
   "execution_count": 11,
   "metadata": {},
   "outputs": [],
   "source": [
    "unemployment_sorted_desc = unemployment_df.sort_values('unemp_rate', ascending=False)\n",
    "highest_unemployment = unemployment_sorted_desc.head(7)"
   ]
  },
  {
   "cell_type": "markdown",
   "metadata": {},
   "source": [
    "### What is the average unemployment of the seven countries with the highest unemployment in europe"
   ]
  },
  {
   "cell_type": "code",
   "execution_count": 12,
   "metadata": {},
   "outputs": [],
   "source": [
    "highest_unemployment_avg = highest_unemployment['unemp_rate'].mean()"
   ]
  },
  {
   "cell_type": "markdown",
   "metadata": {},
   "source": [
    "### Extra - explore these methods:\n",
    ".min(), .max(), .filter()"
   ]
  },
  {
   "cell_type": "code",
   "execution_count": 109,
   "metadata": {},
   "outputs": [
    {
     "data": {
      "text/plain": [
       "23.6"
      ]
     },
     "execution_count": 109,
     "metadata": {},
     "output_type": "execute_result"
    }
   ],
   "source": [
    "unemployment_rates.min()\n",
    "unemployment_rates.max()"
   ]
  },
  {
   "cell_type": "markdown",
   "metadata": {},
   "source": [
    "# Combining DataFrames\n",
    "#### In this section, we'll look at .merge(), .melt()"
   ]
  },
  {
   "cell_type": "code",
   "execution_count": 111,
   "metadata": {},
   "outputs": [],
   "source": [
    "gdp_df = pd.read_csv('./data/gdp_2016.csv')"
   ]
  },
  {
   "cell_type": "code",
   "execution_count": 112,
   "metadata": {},
   "outputs": [],
   "source": [
    "# Create new data frame\n",
    "# We will be using this from here on out\n",
    "eur_data = pd.merge(unemployment_df, gdp_df)"
   ]
  },
  {
   "cell_type": "code",
   "execution_count": 17,
   "metadata": {},
   "outputs": [],
   "source": [
    "misc_data = pd.read_excel('./data/misc_data.xlsx')"
   ]
  },
  {
   "cell_type": "code",
   "execution_count": 113,
   "metadata": {},
   "outputs": [],
   "source": [
    "misc_data_file = pd.ExcelFile('./data/misc_data.xlsx')\n",
    "sheet_names = misc_data_file.sheet_names"
   ]
  },
  {
   "cell_type": "code",
   "execution_count": 114,
   "metadata": {},
   "outputs": [],
   "source": [
    "income_df = pd.read_excel('./data/misc_data.xlsx', \"Income\")"
   ]
  },
  {
   "cell_type": "code",
   "execution_count": 115,
   "metadata": {},
   "outputs": [],
   "source": [
    "# Merge new income data with existing eu_data\n",
    "# This is not an inplace merge\n",
    "eur_data = eur_data.merge(income_df)"
   ]
  },
  {
   "cell_type": "code",
   "execution_count": 116,
   "metadata": {},
   "outputs": [],
   "source": [
    "# Let's get some more data\n",
    "pop_df = pd.read_excel('./data/misc_data.xlsx', 'Population', skiprows=3)"
   ]
  },
  {
   "cell_type": "code",
   "execution_count": 117,
   "metadata": {},
   "outputs": [],
   "source": [
    "pop_df_col_names = pop_df.columns\n",
    "# total_pop = pop_df['']"
   ]
  },
  {
   "cell_type": "code",
   "execution_count": 118,
   "metadata": {},
   "outputs": [],
   "source": [
    "total_pop = pop_df['total_pop']"
   ]
  },
  {
   "cell_type": "code",
   "execution_count": 119,
   "metadata": {},
   "outputs": [
    {
     "ename": "MergeError",
     "evalue": "No common columns to perform merge on. Merge options: left_on=None, right_on=None, left_index=False, right_index=False",
     "output_type": "error",
     "traceback": [
      "\u001b[0;31m---------------------------------------------------------------------------\u001b[0m",
      "\u001b[0;31mMergeError\u001b[0m                                Traceback (most recent call last)",
      "\u001b[0;32m<ipython-input-119-256d3769d8db>\u001b[0m in \u001b[0;36m<module>\u001b[0;34m\u001b[0m\n\u001b[0;32m----> 1\u001b[0;31m \u001b[0meur_data\u001b[0m \u001b[0;34m=\u001b[0m \u001b[0meur_data\u001b[0m\u001b[0;34m.\u001b[0m\u001b[0mmerge\u001b[0m\u001b[0;34m(\u001b[0m\u001b[0mtotal_pop\u001b[0m\u001b[0;34m)\u001b[0m\u001b[0;34m\u001b[0m\u001b[0;34m\u001b[0m\u001b[0m\n\u001b[0m",
      "\u001b[0;32m/usr/local/lib/python3.7/site-packages/pandas/core/frame.py\u001b[0m in \u001b[0;36mmerge\u001b[0;34m(self, right, how, on, left_on, right_on, left_index, right_index, sort, suffixes, copy, indicator, validate)\u001b[0m\n\u001b[1;32m   7347\u001b[0m             \u001b[0mcopy\u001b[0m\u001b[0;34m=\u001b[0m\u001b[0mcopy\u001b[0m\u001b[0;34m,\u001b[0m\u001b[0;34m\u001b[0m\u001b[0;34m\u001b[0m\u001b[0m\n\u001b[1;32m   7348\u001b[0m             \u001b[0mindicator\u001b[0m\u001b[0;34m=\u001b[0m\u001b[0mindicator\u001b[0m\u001b[0;34m,\u001b[0m\u001b[0;34m\u001b[0m\u001b[0;34m\u001b[0m\u001b[0m\n\u001b[0;32m-> 7349\u001b[0;31m             \u001b[0mvalidate\u001b[0m\u001b[0;34m=\u001b[0m\u001b[0mvalidate\u001b[0m\u001b[0;34m,\u001b[0m\u001b[0;34m\u001b[0m\u001b[0;34m\u001b[0m\u001b[0m\n\u001b[0m\u001b[1;32m   7350\u001b[0m         )\n\u001b[1;32m   7351\u001b[0m \u001b[0;34m\u001b[0m\u001b[0m\n",
      "\u001b[0;32m/usr/local/lib/python3.7/site-packages/pandas/core/reshape/merge.py\u001b[0m in \u001b[0;36mmerge\u001b[0;34m(left, right, how, on, left_on, right_on, left_index, right_index, sort, suffixes, copy, indicator, validate)\u001b[0m\n\u001b[1;32m     79\u001b[0m         \u001b[0mcopy\u001b[0m\u001b[0;34m=\u001b[0m\u001b[0mcopy\u001b[0m\u001b[0;34m,\u001b[0m\u001b[0;34m\u001b[0m\u001b[0;34m\u001b[0m\u001b[0m\n\u001b[1;32m     80\u001b[0m         \u001b[0mindicator\u001b[0m\u001b[0;34m=\u001b[0m\u001b[0mindicator\u001b[0m\u001b[0;34m,\u001b[0m\u001b[0;34m\u001b[0m\u001b[0;34m\u001b[0m\u001b[0m\n\u001b[0;32m---> 81\u001b[0;31m         \u001b[0mvalidate\u001b[0m\u001b[0;34m=\u001b[0m\u001b[0mvalidate\u001b[0m\u001b[0;34m,\u001b[0m\u001b[0;34m\u001b[0m\u001b[0;34m\u001b[0m\u001b[0m\n\u001b[0m\u001b[1;32m     82\u001b[0m     )\n\u001b[1;32m     83\u001b[0m     \u001b[0;32mreturn\u001b[0m \u001b[0mop\u001b[0m\u001b[0;34m.\u001b[0m\u001b[0mget_result\u001b[0m\u001b[0;34m(\u001b[0m\u001b[0;34m)\u001b[0m\u001b[0;34m\u001b[0m\u001b[0;34m\u001b[0m\u001b[0m\n",
      "\u001b[0;32m/usr/local/lib/python3.7/site-packages/pandas/core/reshape/merge.py\u001b[0m in \u001b[0;36m__init__\u001b[0;34m(self, left, right, how, on, left_on, right_on, axis, left_index, right_index, sort, suffixes, copy, indicator, validate)\u001b[0m\n\u001b[1;32m    617\u001b[0m             \u001b[0mwarnings\u001b[0m\u001b[0;34m.\u001b[0m\u001b[0mwarn\u001b[0m\u001b[0;34m(\u001b[0m\u001b[0mmsg\u001b[0m\u001b[0;34m,\u001b[0m \u001b[0mUserWarning\u001b[0m\u001b[0;34m)\u001b[0m\u001b[0;34m\u001b[0m\u001b[0;34m\u001b[0m\u001b[0m\n\u001b[1;32m    618\u001b[0m \u001b[0;34m\u001b[0m\u001b[0m\n\u001b[0;32m--> 619\u001b[0;31m         \u001b[0mself\u001b[0m\u001b[0;34m.\u001b[0m\u001b[0m_validate_specification\u001b[0m\u001b[0;34m(\u001b[0m\u001b[0;34m)\u001b[0m\u001b[0;34m\u001b[0m\u001b[0;34m\u001b[0m\u001b[0m\n\u001b[0m\u001b[1;32m    620\u001b[0m \u001b[0;34m\u001b[0m\u001b[0m\n\u001b[1;32m    621\u001b[0m         \u001b[0;31m# note this function has side effects\u001b[0m\u001b[0;34m\u001b[0m\u001b[0;34m\u001b[0m\u001b[0;34m\u001b[0m\u001b[0m\n",
      "\u001b[0;32m/usr/local/lib/python3.7/site-packages/pandas/core/reshape/merge.py\u001b[0m in \u001b[0;36m_validate_specification\u001b[0;34m(self)\u001b[0m\n\u001b[1;32m   1188\u001b[0m                             \u001b[0mron\u001b[0m\u001b[0;34m=\u001b[0m\u001b[0mself\u001b[0m\u001b[0;34m.\u001b[0m\u001b[0mright_on\u001b[0m\u001b[0;34m,\u001b[0m\u001b[0;34m\u001b[0m\u001b[0;34m\u001b[0m\u001b[0m\n\u001b[1;32m   1189\u001b[0m                             \u001b[0mlidx\u001b[0m\u001b[0;34m=\u001b[0m\u001b[0mself\u001b[0m\u001b[0;34m.\u001b[0m\u001b[0mleft_index\u001b[0m\u001b[0;34m,\u001b[0m\u001b[0;34m\u001b[0m\u001b[0;34m\u001b[0m\u001b[0m\n\u001b[0;32m-> 1190\u001b[0;31m                             \u001b[0mridx\u001b[0m\u001b[0;34m=\u001b[0m\u001b[0mself\u001b[0m\u001b[0;34m.\u001b[0m\u001b[0mright_index\u001b[0m\u001b[0;34m,\u001b[0m\u001b[0;34m\u001b[0m\u001b[0;34m\u001b[0m\u001b[0m\n\u001b[0m\u001b[1;32m   1191\u001b[0m                         )\n\u001b[1;32m   1192\u001b[0m                     )\n",
      "\u001b[0;31mMergeError\u001b[0m: No common columns to perform merge on. Merge options: left_on=None, right_on=None, left_index=False, right_index=False"
     ]
    }
   ],
   "source": [
    "eur_data = eur_data.merge(total_pop)"
   ]
  },
  {
   "cell_type": "code",
   "execution_count": 120,
   "metadata": {},
   "outputs": [],
   "source": [
    "total_pop_with_countries = pop_df[['country', 'total_pop']]"
   ]
  },
  {
   "cell_type": "code",
   "execution_count": 121,
   "metadata": {},
   "outputs": [],
   "source": [
    "eur_data = pd.merge(eur_data, total_pop_with_countries)"
   ]
  },
  {
   "cell_type": "code",
   "execution_count": 123,
   "metadata": {},
   "outputs": [],
   "source": [
    "# Uh oh. These are not sorted. Sort them now and rewrite to csv\n",
    "eur_data_sorted = eur_data.sort_values('country')\n"
   ]
  },
  {
   "cell_type": "code",
   "execution_count": null,
   "metadata": {},
   "outputs": [],
   "source": [
    "# But wait, what's going on with the indexes?\n",
    "# What is an index anyway?"
   ]
  },
  {
   "cell_type": "code",
   "execution_count": 31,
   "metadata": {},
   "outputs": [],
   "source": [
    "# So what is an index anyway?\n",
    "# It's a lot like a python dictionary\n",
    "countries = {\n",
    "    15: {'country': 'Italy', \n",
    "         'unemp_rate': 11.7, \n",
    "         'gdp': 1689824.0, \n",
    "         'median_income': 16237, \n",
    "         'total_pop': 59433744\n",
    "        }\n",
    "}"
   ]
  },
  {
   "cell_type": "code",
   "execution_count": 125,
   "metadata": {},
   "outputs": [
    {
     "data": {
      "text/plain": [
       "pandas.core.indexes.numeric.Int64Index"
      ]
     },
     "execution_count": 125,
     "metadata": {},
     "output_type": "execute_result"
    }
   ],
   "source": [
    "eur_index = eur_data_sorted.index\n",
    "type(eur_index)"
   ]
  },
  {
   "cell_type": "code",
   "execution_count": null,
   "metadata": {},
   "outputs": [],
   "source": [
    "# Index is immutable\n",
    "eur_index[0] = 12"
   ]
  },
  {
   "cell_type": "code",
   "execution_count": 32,
   "metadata": {},
   "outputs": [],
   "source": [
    "# For our purposes, let's reset our indexes\n",
    "eur_data_sorted.reset_index(drop=True, inplace=True)"
   ]
  },
  {
   "cell_type": "code",
   "execution_count": 126,
   "metadata": {},
   "outputs": [],
   "source": [
    "eur_data_sorted.to_csv('./data/out/eur_data_sorted.csv')"
   ]
  },
  {
   "cell_type": "code",
   "execution_count": 127,
   "metadata": {},
   "outputs": [],
   "source": [
    "### Use your googling skills! Write this file to json, excel, and html\n",
    "eur_data_sorted.to_excel('./data/out/eur_data_sorted.xlsx')"
   ]
  },
  {
   "cell_type": "code",
   "execution_count": 128,
   "metadata": {},
   "outputs": [],
   "source": [
    "# How would you view this json file?\n",
    "# What similarities does it have with csv and excel? What differences?\n",
    "eur_data_sorted.to_json('./data/out/eur_data_sorted.json')"
   ]
  },
  {
   "cell_type": "code",
   "execution_count": 129,
   "metadata": {},
   "outputs": [],
   "source": [
    "# How would you view this json file?\n",
    "# What similarities does it have with csv and excel? What differences?\n",
    "eur_data_sorted.to_html('./data/out/eur_data_sorted.htm')"
   ]
  },
  {
   "cell_type": "markdown",
   "metadata": {},
   "source": [
    "## Working with DataFrames\n",
    "#### You've created them, now let's use them!"
   ]
  },
  {
   "cell_type": "code",
   "execution_count": 100,
   "metadata": {},
   "outputs": [],
   "source": [
    "eur_data_final = pd.read_csv('./data/final/eur_data_final.csv', index_col=0)"
   ]
  },
  {
   "cell_type": "code",
   "execution_count": 130,
   "metadata": {},
   "outputs": [
    {
     "data": {
      "text/html": [
       "<div>\n",
       "<style scoped>\n",
       "    .dataframe tbody tr th:only-of-type {\n",
       "        vertical-align: middle;\n",
       "    }\n",
       "\n",
       "    .dataframe tbody tr th {\n",
       "        vertical-align: top;\n",
       "    }\n",
       "\n",
       "    .dataframe thead th {\n",
       "        text-align: right;\n",
       "    }\n",
       "</style>\n",
       "<table border=\"1\" class=\"dataframe\">\n",
       "  <thead>\n",
       "    <tr style=\"text-align: right;\">\n",
       "      <th></th>\n",
       "      <th>country</th>\n",
       "      <th>unemp_rate</th>\n",
       "      <th>gdp</th>\n",
       "      <th>median_income</th>\n",
       "      <th>total_pop</th>\n",
       "    </tr>\n",
       "  </thead>\n",
       "  <tbody>\n",
       "    <tr>\n",
       "      <th>0</th>\n",
       "      <td>Austria</td>\n",
       "      <td>6.0</td>\n",
       "      <td>356237.6</td>\n",
       "      <td>23071</td>\n",
       "      <td>8401940</td>\n",
       "    </tr>\n",
       "    <tr>\n",
       "      <th>1</th>\n",
       "      <td>Belgium</td>\n",
       "      <td>7.8</td>\n",
       "      <td>424660.3</td>\n",
       "      <td>21335</td>\n",
       "      <td>11000638</td>\n",
       "    </tr>\n",
       "    <tr>\n",
       "      <th>2</th>\n",
       "      <td>Bulgaria</td>\n",
       "      <td>7.6</td>\n",
       "      <td>48128.6</td>\n",
       "      <td>6742</td>\n",
       "      <td>7364570</td>\n",
       "    </tr>\n",
       "    <tr>\n",
       "      <th>3</th>\n",
       "      <td>Croatia</td>\n",
       "      <td>13.1</td>\n",
       "      <td>46639.5</td>\n",
       "      <td>8985</td>\n",
       "      <td>4284889</td>\n",
       "    </tr>\n",
       "    <tr>\n",
       "      <th>4</th>\n",
       "      <td>Cyprus</td>\n",
       "      <td>13.0</td>\n",
       "      <td>18490.2</td>\n",
       "      <td>16173</td>\n",
       "      <td>840407</td>\n",
       "    </tr>\n",
       "  </tbody>\n",
       "</table>\n",
       "</div>"
      ],
      "text/plain": [
       "    country  unemp_rate       gdp  median_income  total_pop\n",
       "0   Austria         6.0  356237.6          23071    8401940\n",
       "1   Belgium         7.8  424660.3          21335   11000638\n",
       "2  Bulgaria         7.6   48128.6           6742    7364570\n",
       "3   Croatia        13.1   46639.5           8985    4284889\n",
       "4    Cyprus        13.0   18490.2          16173     840407"
      ]
     },
     "execution_count": 130,
     "metadata": {},
     "output_type": "execute_result"
    }
   ],
   "source": [
    "eur_data_final.head()"
   ]
  },
  {
   "cell_type": "code",
   "execution_count": 131,
   "metadata": {},
   "outputs": [
    {
     "data": {
      "text/html": [
       "<div>\n",
       "<style scoped>\n",
       "    .dataframe tbody tr th:only-of-type {\n",
       "        vertical-align: middle;\n",
       "    }\n",
       "\n",
       "    .dataframe tbody tr th {\n",
       "        vertical-align: top;\n",
       "    }\n",
       "\n",
       "    .dataframe thead th {\n",
       "        text-align: right;\n",
       "    }\n",
       "</style>\n",
       "<table border=\"1\" class=\"dataframe\">\n",
       "  <thead>\n",
       "    <tr style=\"text-align: right;\">\n",
       "      <th></th>\n",
       "      <th>country</th>\n",
       "      <th>unemp_rate</th>\n",
       "      <th>gdp</th>\n",
       "      <th>median_income</th>\n",
       "      <th>total_pop</th>\n",
       "    </tr>\n",
       "  </thead>\n",
       "  <tbody>\n",
       "    <tr>\n",
       "      <th>27</th>\n",
       "      <td>Spain</td>\n",
       "      <td>19.6</td>\n",
       "      <td>1118743.0</td>\n",
       "      <td>15347</td>\n",
       "      <td>46815910</td>\n",
       "    </tr>\n",
       "    <tr>\n",
       "      <th>28</th>\n",
       "      <td>Sweden</td>\n",
       "      <td>7.0</td>\n",
       "      <td>463147.5</td>\n",
       "      <td>20955</td>\n",
       "      <td>9482855</td>\n",
       "    </tr>\n",
       "    <tr>\n",
       "      <th>29</th>\n",
       "      <td>Switzerland</td>\n",
       "      <td>5.0</td>\n",
       "      <td>605753.7</td>\n",
       "      <td>27692</td>\n",
       "      <td>7954662</td>\n",
       "    </tr>\n",
       "    <tr>\n",
       "      <th>30</th>\n",
       "      <td>Turkey</td>\n",
       "      <td>10.9</td>\n",
       "      <td>780224.9</td>\n",
       "      <td>6501</td>\n",
       "      <td>7954662</td>\n",
       "    </tr>\n",
       "    <tr>\n",
       "      <th>31</th>\n",
       "      <td>United Kingdom</td>\n",
       "      <td>4.8</td>\n",
       "      <td>2403382.6</td>\n",
       "      <td>17296</td>\n",
       "      <td>63182180</td>\n",
       "    </tr>\n",
       "  </tbody>\n",
       "</table>\n",
       "</div>"
      ],
      "text/plain": [
       "           country  unemp_rate        gdp  median_income  total_pop\n",
       "27           Spain        19.6  1118743.0          15347   46815910\n",
       "28          Sweden         7.0   463147.5          20955    9482855\n",
       "29     Switzerland         5.0   605753.7          27692    7954662\n",
       "30          Turkey        10.9   780224.9           6501    7954662\n",
       "31  United Kingdom         4.8  2403382.6          17296   63182180"
      ]
     },
     "execution_count": 131,
     "metadata": {},
     "output_type": "execute_result"
    }
   ],
   "source": [
    "eur_data_final.tail()"
   ]
  },
  {
   "cell_type": "code",
   "execution_count": 132,
   "metadata": {},
   "outputs": [
    {
     "name": "stdout",
     "output_type": "stream",
     "text": [
      "<class 'pandas.core.frame.DataFrame'>\n",
      "Int64Index: 32 entries, 0 to 31\n",
      "Data columns (total 5 columns):\n",
      "country          32 non-null object\n",
      "unemp_rate       32 non-null float64\n",
      "gdp              32 non-null float64\n",
      "median_income    32 non-null int64\n",
      "total_pop        32 non-null int64\n",
      "dtypes: float64(2), int64(2), object(1)\n",
      "memory usage: 2.8+ KB\n"
     ]
    }
   ],
   "source": [
    "eur_data_final.info()"
   ]
  },
  {
   "cell_type": "code",
   "execution_count": 133,
   "metadata": {},
   "outputs": [
    {
     "data": {
      "text/plain": [
       "(32, 5)"
      ]
     },
     "execution_count": 133,
     "metadata": {},
     "output_type": "execute_result"
    }
   ],
   "source": [
    "# This is a tuple. Why do you think it's a tuple?\n",
    "eur_data_final.shape"
   ]
  },
  {
   "cell_type": "code",
   "execution_count": 134,
   "metadata": {},
   "outputs": [
    {
     "data": {
      "text/html": [
       "<div>\n",
       "<style scoped>\n",
       "    .dataframe tbody tr th:only-of-type {\n",
       "        vertical-align: middle;\n",
       "    }\n",
       "\n",
       "    .dataframe tbody tr th {\n",
       "        vertical-align: top;\n",
       "    }\n",
       "\n",
       "    .dataframe thead th {\n",
       "        text-align: right;\n",
       "    }\n",
       "</style>\n",
       "<table border=\"1\" class=\"dataframe\">\n",
       "  <thead>\n",
       "    <tr style=\"text-align: right;\">\n",
       "      <th></th>\n",
       "      <th>unemp_rate</th>\n",
       "      <th>gdp</th>\n",
       "      <th>median_income</th>\n",
       "      <th>total_pop</th>\n",
       "    </tr>\n",
       "  </thead>\n",
       "  <tbody>\n",
       "    <tr>\n",
       "      <th>count</th>\n",
       "      <td>32.000000</td>\n",
       "      <td>3.200000e+01</td>\n",
       "      <td>32.000000</td>\n",
       "      <td>3.200000e+01</td>\n",
       "    </tr>\n",
       "    <tr>\n",
       "      <th>mean</th>\n",
       "      <td>8.337500</td>\n",
       "      <td>5.218333e+05</td>\n",
       "      <td>15972.343750</td>\n",
       "      <td>1.637612e+07</td>\n",
       "    </tr>\n",
       "    <tr>\n",
       "      <th>std</th>\n",
       "      <td>4.393378</td>\n",
       "      <td>7.781849e+05</td>\n",
       "      <td>6640.636617</td>\n",
       "      <td>2.198819e+07</td>\n",
       "    </tr>\n",
       "    <tr>\n",
       "      <th>min</th>\n",
       "      <td>3.000000</td>\n",
       "      <td>1.034410e+04</td>\n",
       "      <td>4724.000000</td>\n",
       "      <td>3.155560e+05</td>\n",
       "    </tr>\n",
       "    <tr>\n",
       "      <th>25%</th>\n",
       "      <td>5.700000</td>\n",
       "      <td>4.775632e+04</td>\n",
       "      <td>10190.500000</td>\n",
       "      <td>3.974524e+06</td>\n",
       "    </tr>\n",
       "    <tr>\n",
       "      <th>50%</th>\n",
       "      <td>7.300000</td>\n",
       "      <td>2.012768e+05</td>\n",
       "      <td>16205.000000</td>\n",
       "      <td>7.954662e+06</td>\n",
       "    </tr>\n",
       "    <tr>\n",
       "      <th>75%</th>\n",
       "      <td>9.800000</td>\n",
       "      <td>4.987990e+05</td>\n",
       "      <td>21161.250000</td>\n",
       "      <td>1.241443e+07</td>\n",
       "    </tr>\n",
       "    <tr>\n",
       "      <th>max</th>\n",
       "      <td>23.600000</td>\n",
       "      <td>3.159750e+06</td>\n",
       "      <td>28663.000000</td>\n",
       "      <td>8.021970e+07</td>\n",
       "    </tr>\n",
       "  </tbody>\n",
       "</table>\n",
       "</div>"
      ],
      "text/plain": [
       "       unemp_rate           gdp  median_income     total_pop\n",
       "count   32.000000  3.200000e+01      32.000000  3.200000e+01\n",
       "mean     8.337500  5.218333e+05   15972.343750  1.637612e+07\n",
       "std      4.393378  7.781849e+05    6640.636617  2.198819e+07\n",
       "min      3.000000  1.034410e+04    4724.000000  3.155560e+05\n",
       "25%      5.700000  4.775632e+04   10190.500000  3.974524e+06\n",
       "50%      7.300000  2.012768e+05   16205.000000  7.954662e+06\n",
       "75%      9.800000  4.987990e+05   21161.250000  1.241443e+07\n",
       "max     23.600000  3.159750e+06   28663.000000  8.021970e+07"
      ]
     },
     "execution_count": 134,
     "metadata": {},
     "output_type": "execute_result"
    }
   ],
   "source": [
    "eur_data_final.describe()"
   ]
  },
  {
   "cell_type": "markdown",
   "metadata": {},
   "source": [
    "#### Data in pandas is vectorized. What does that mean?\n",
    "It means you can apply operate on entire series with one command. Notice: this does not happen in place"
   ]
  },
  {
   "cell_type": "code",
   "execution_count": 136,
   "metadata": {},
   "outputs": [
    {
     "data": {
      "text/plain": [
       "unemp_rate       8.337500e+00\n",
       "gdp              5.218333e+05\n",
       "median_income    1.597234e+04\n",
       "total_pop        1.637612e+07\n",
       "dtype: float64"
      ]
     },
     "execution_count": 136,
     "metadata": {},
     "output_type": "execute_result"
    }
   ],
   "source": [
    "# Before we were using the mean method on a series, now it's the whole dataframe\n",
    "eur_data_final.mean()"
   ]
  },
  {
   "cell_type": "markdown",
   "metadata": {},
   "source": [
    "#### What is boolean indexing?\n",
    "First of all, what is the boolean data type? A data type that represents one of two possible values. True False, On Off, etc."
   ]
  },
  {
   "cell_type": "code",
   "execution_count": 139,
   "metadata": {},
   "outputs": [],
   "source": [
    "# What's going on here? \n",
    "# We are generating a vector of boolean values, based on the truthiness of the expression \n",
    "# as it compares to each value in the column\n",
    "austria_bool = eur_data_final.country == 'Austria'"
   ]
  },
  {
   "cell_type": "code",
   "execution_count": 140,
   "metadata": {},
   "outputs": [
    {
     "data": {
      "text/html": [
       "<div>\n",
       "<style scoped>\n",
       "    .dataframe tbody tr th:only-of-type {\n",
       "        vertical-align: middle;\n",
       "    }\n",
       "\n",
       "    .dataframe tbody tr th {\n",
       "        vertical-align: top;\n",
       "    }\n",
       "\n",
       "    .dataframe thead th {\n",
       "        text-align: right;\n",
       "    }\n",
       "</style>\n",
       "<table border=\"1\" class=\"dataframe\">\n",
       "  <thead>\n",
       "    <tr style=\"text-align: right;\">\n",
       "      <th></th>\n",
       "      <th>country</th>\n",
       "      <th>unemp_rate</th>\n",
       "      <th>gdp</th>\n",
       "      <th>median_income</th>\n",
       "      <th>total_pop</th>\n",
       "    </tr>\n",
       "  </thead>\n",
       "  <tbody>\n",
       "    <tr>\n",
       "      <th>0</th>\n",
       "      <td>Austria</td>\n",
       "      <td>6.0</td>\n",
       "      <td>356237.6</td>\n",
       "      <td>23071</td>\n",
       "      <td>8401940</td>\n",
       "    </tr>\n",
       "  </tbody>\n",
       "</table>\n",
       "</div>"
      ],
      "text/plain": [
       "   country  unemp_rate       gdp  median_income  total_pop\n",
       "0  Austria         6.0  356237.6          23071    8401940"
      ]
     },
     "execution_count": 140,
     "metadata": {},
     "output_type": "execute_result"
    }
   ],
   "source": [
    "# We can then pass in that vector\n",
    "eur_data_final[austria_bool]"
   ]
  },
  {
   "cell_type": "code",
   "execution_count": 53,
   "metadata": {},
   "outputs": [
    {
     "data": {
      "text/html": [
       "<div>\n",
       "<style scoped>\n",
       "    .dataframe tbody tr th:only-of-type {\n",
       "        vertical-align: middle;\n",
       "    }\n",
       "\n",
       "    .dataframe tbody tr th {\n",
       "        vertical-align: top;\n",
       "    }\n",
       "\n",
       "    .dataframe thead th {\n",
       "        text-align: right;\n",
       "    }\n",
       "</style>\n",
       "<table border=\"1\" class=\"dataframe\">\n",
       "  <thead>\n",
       "    <tr style=\"text-align: right;\">\n",
       "      <th></th>\n",
       "      <th>country</th>\n",
       "      <th>unemp_rate</th>\n",
       "      <th>gdp</th>\n",
       "      <th>median_income</th>\n",
       "      <th>total_pop</th>\n",
       "    </tr>\n",
       "  </thead>\n",
       "  <tbody>\n",
       "    <tr>\n",
       "      <th>11</th>\n",
       "      <td>Greece</td>\n",
       "      <td>23.6</td>\n",
       "      <td>176487.9</td>\n",
       "      <td>9048</td>\n",
       "      <td>10816286</td>\n",
       "    </tr>\n",
       "  </tbody>\n",
       "</table>\n",
       "</div>"
      ],
      "text/plain": [
       "   country  unemp_rate       gdp  median_income  total_pop\n",
       "11  Greece        23.6  176487.9           9048   10816286"
      ]
     },
     "execution_count": 53,
     "metadata": {},
     "output_type": "execute_result"
    }
   ],
   "source": [
    "# We can also do it this way\n",
    "greece_bool = eur_data_final['country'] == 'Greece'\n",
    "eur_data_final[greece_bool]"
   ]
  },
  {
   "cell_type": "code",
   "execution_count": 156,
   "metadata": {},
   "outputs": [],
   "source": [
    "# You can also check by partial match\n",
    "l_names = eur_data_final.country.str.contains('l')"
   ]
  },
  {
   "cell_type": "code",
   "execution_count": 157,
   "metadata": {},
   "outputs": [
    {
     "data": {
      "text/html": [
       "<div>\n",
       "<style scoped>\n",
       "    .dataframe tbody tr th:only-of-type {\n",
       "        vertical-align: middle;\n",
       "    }\n",
       "\n",
       "    .dataframe tbody tr th {\n",
       "        vertical-align: top;\n",
       "    }\n",
       "\n",
       "    .dataframe thead th {\n",
       "        text-align: right;\n",
       "    }\n",
       "</style>\n",
       "<table border=\"1\" class=\"dataframe\">\n",
       "  <thead>\n",
       "    <tr style=\"text-align: right;\">\n",
       "      <th></th>\n",
       "      <th>country</th>\n",
       "      <th>unemp_rate</th>\n",
       "      <th>gdp</th>\n",
       "      <th>median_income</th>\n",
       "      <th>total_pop</th>\n",
       "    </tr>\n",
       "  </thead>\n",
       "  <tbody>\n",
       "    <tr>\n",
       "      <th>1</th>\n",
       "      <td>Belgium</td>\n",
       "      <td>7.8</td>\n",
       "      <td>424660.3</td>\n",
       "      <td>21335</td>\n",
       "      <td>11000638</td>\n",
       "    </tr>\n",
       "    <tr>\n",
       "      <th>2</th>\n",
       "      <td>Bulgaria</td>\n",
       "      <td>7.6</td>\n",
       "      <td>48128.6</td>\n",
       "      <td>6742</td>\n",
       "      <td>7364570</td>\n",
       "    </tr>\n",
       "    <tr>\n",
       "      <th>8</th>\n",
       "      <td>Finland</td>\n",
       "      <td>8.8</td>\n",
       "      <td>216073.0</td>\n",
       "      <td>19997</td>\n",
       "      <td>5375276</td>\n",
       "    </tr>\n",
       "    <tr>\n",
       "      <th>13</th>\n",
       "      <td>Iceland</td>\n",
       "      <td>3.0</td>\n",
       "      <td>18646.1</td>\n",
       "      <td>22193</td>\n",
       "      <td>315556</td>\n",
       "    </tr>\n",
       "    <tr>\n",
       "      <th>14</th>\n",
       "      <td>Ireland</td>\n",
       "      <td>8.4</td>\n",
       "      <td>273238.2</td>\n",
       "      <td>18286</td>\n",
       "      <td>4574888</td>\n",
       "    </tr>\n",
       "    <tr>\n",
       "      <th>15</th>\n",
       "      <td>Italy</td>\n",
       "      <td>11.7</td>\n",
       "      <td>1689824.0</td>\n",
       "      <td>16237</td>\n",
       "      <td>59433744</td>\n",
       "    </tr>\n",
       "    <tr>\n",
       "      <th>19</th>\n",
       "      <td>Malta</td>\n",
       "      <td>4.7</td>\n",
       "      <td>10344.1</td>\n",
       "      <td>17264</td>\n",
       "      <td>417432</td>\n",
       "    </tr>\n",
       "    <tr>\n",
       "      <th>20</th>\n",
       "      <td>Netherlands</td>\n",
       "      <td>6.0</td>\n",
       "      <td>708337.0</td>\n",
       "      <td>21189</td>\n",
       "      <td>16655799</td>\n",
       "    </tr>\n",
       "    <tr>\n",
       "      <th>22</th>\n",
       "      <td>Poland</td>\n",
       "      <td>6.2</td>\n",
       "      <td>426547.5</td>\n",
       "      <td>10865</td>\n",
       "      <td>38044565</td>\n",
       "    </tr>\n",
       "    <tr>\n",
       "      <th>23</th>\n",
       "      <td>Portugal</td>\n",
       "      <td>11.2</td>\n",
       "      <td>186480.5</td>\n",
       "      <td>10805</td>\n",
       "      <td>10562178</td>\n",
       "    </tr>\n",
       "    <tr>\n",
       "      <th>25</th>\n",
       "      <td>Slovakia</td>\n",
       "      <td>9.7</td>\n",
       "      <td>81226.1</td>\n",
       "      <td>10466</td>\n",
       "      <td>5397036</td>\n",
       "    </tr>\n",
       "    <tr>\n",
       "      <th>26</th>\n",
       "      <td>Slovenia</td>\n",
       "      <td>8.0</td>\n",
       "      <td>40357.2</td>\n",
       "      <td>15250</td>\n",
       "      <td>2050189</td>\n",
       "    </tr>\n",
       "    <tr>\n",
       "      <th>29</th>\n",
       "      <td>Switzerland</td>\n",
       "      <td>5.0</td>\n",
       "      <td>605753.7</td>\n",
       "      <td>27692</td>\n",
       "      <td>7954662</td>\n",
       "    </tr>\n",
       "  </tbody>\n",
       "</table>\n",
       "</div>"
      ],
      "text/plain": [
       "        country  unemp_rate        gdp  median_income  total_pop\n",
       "1       Belgium         7.8   424660.3          21335   11000638\n",
       "2      Bulgaria         7.6    48128.6           6742    7364570\n",
       "8       Finland         8.8   216073.0          19997    5375276\n",
       "13      Iceland         3.0    18646.1          22193     315556\n",
       "14      Ireland         8.4   273238.2          18286    4574888\n",
       "15        Italy        11.7  1689824.0          16237   59433744\n",
       "19        Malta         4.7    10344.1          17264     417432\n",
       "20  Netherlands         6.0   708337.0          21189   16655799\n",
       "22       Poland         6.2   426547.5          10865   38044565\n",
       "23     Portugal        11.2   186480.5          10805   10562178\n",
       "25     Slovakia         9.7    81226.1          10466    5397036\n",
       "26     Slovenia         8.0    40357.2          15250    2050189\n",
       "29  Switzerland         5.0   605753.7          27692    7954662"
      ]
     },
     "execution_count": 157,
     "metadata": {},
     "output_type": "execute_result"
    }
   ],
   "source": [
    "eur_data_final[l_names]"
   ]
  },
  {
   "cell_type": "code",
   "execution_count": 158,
   "metadata": {},
   "outputs": [],
   "source": [
    "# Something is missing!\n",
    "l_names_insensitive = eur_data_final.country.str.contains('l', case=False)"
   ]
  },
  {
   "cell_type": "code",
   "execution_count": 159,
   "metadata": {},
   "outputs": [
    {
     "data": {
      "text/html": [
       "<div>\n",
       "<style scoped>\n",
       "    .dataframe tbody tr th:only-of-type {\n",
       "        vertical-align: middle;\n",
       "    }\n",
       "\n",
       "    .dataframe tbody tr th {\n",
       "        vertical-align: top;\n",
       "    }\n",
       "\n",
       "    .dataframe thead th {\n",
       "        text-align: right;\n",
       "    }\n",
       "</style>\n",
       "<table border=\"1\" class=\"dataframe\">\n",
       "  <thead>\n",
       "    <tr style=\"text-align: right;\">\n",
       "      <th></th>\n",
       "      <th>country</th>\n",
       "      <th>unemp_rate</th>\n",
       "      <th>gdp</th>\n",
       "      <th>median_income</th>\n",
       "      <th>total_pop</th>\n",
       "    </tr>\n",
       "  </thead>\n",
       "  <tbody>\n",
       "    <tr>\n",
       "      <th>1</th>\n",
       "      <td>Belgium</td>\n",
       "      <td>7.8</td>\n",
       "      <td>424660.3</td>\n",
       "      <td>21335</td>\n",
       "      <td>11000638</td>\n",
       "    </tr>\n",
       "    <tr>\n",
       "      <th>2</th>\n",
       "      <td>Bulgaria</td>\n",
       "      <td>7.6</td>\n",
       "      <td>48128.6</td>\n",
       "      <td>6742</td>\n",
       "      <td>7364570</td>\n",
       "    </tr>\n",
       "    <tr>\n",
       "      <th>8</th>\n",
       "      <td>Finland</td>\n",
       "      <td>8.8</td>\n",
       "      <td>216073.0</td>\n",
       "      <td>19997</td>\n",
       "      <td>5375276</td>\n",
       "    </tr>\n",
       "    <tr>\n",
       "      <th>13</th>\n",
       "      <td>Iceland</td>\n",
       "      <td>3.0</td>\n",
       "      <td>18646.1</td>\n",
       "      <td>22193</td>\n",
       "      <td>315556</td>\n",
       "    </tr>\n",
       "    <tr>\n",
       "      <th>14</th>\n",
       "      <td>Ireland</td>\n",
       "      <td>8.4</td>\n",
       "      <td>273238.2</td>\n",
       "      <td>18286</td>\n",
       "      <td>4574888</td>\n",
       "    </tr>\n",
       "    <tr>\n",
       "      <th>15</th>\n",
       "      <td>Italy</td>\n",
       "      <td>11.7</td>\n",
       "      <td>1689824.0</td>\n",
       "      <td>16237</td>\n",
       "      <td>59433744</td>\n",
       "    </tr>\n",
       "    <tr>\n",
       "      <th>16</th>\n",
       "      <td>Latvia</td>\n",
       "      <td>9.6</td>\n",
       "      <td>25037.7</td>\n",
       "      <td>9257</td>\n",
       "      <td>2070371</td>\n",
       "    </tr>\n",
       "    <tr>\n",
       "      <th>17</th>\n",
       "      <td>Lithuania</td>\n",
       "      <td>7.9</td>\n",
       "      <td>38849.4</td>\n",
       "      <td>9364</td>\n",
       "      <td>3043429</td>\n",
       "    </tr>\n",
       "    <tr>\n",
       "      <th>18</th>\n",
       "      <td>Luxembourg</td>\n",
       "      <td>6.3</td>\n",
       "      <td>53303.0</td>\n",
       "      <td>28663</td>\n",
       "      <td>512353</td>\n",
       "    </tr>\n",
       "    <tr>\n",
       "      <th>19</th>\n",
       "      <td>Malta</td>\n",
       "      <td>4.7</td>\n",
       "      <td>10344.1</td>\n",
       "      <td>17264</td>\n",
       "      <td>417432</td>\n",
       "    </tr>\n",
       "    <tr>\n",
       "      <th>20</th>\n",
       "      <td>Netherlands</td>\n",
       "      <td>6.0</td>\n",
       "      <td>708337.0</td>\n",
       "      <td>21189</td>\n",
       "      <td>16655799</td>\n",
       "    </tr>\n",
       "    <tr>\n",
       "      <th>22</th>\n",
       "      <td>Poland</td>\n",
       "      <td>6.2</td>\n",
       "      <td>426547.5</td>\n",
       "      <td>10865</td>\n",
       "      <td>38044565</td>\n",
       "    </tr>\n",
       "    <tr>\n",
       "      <th>23</th>\n",
       "      <td>Portugal</td>\n",
       "      <td>11.2</td>\n",
       "      <td>186480.5</td>\n",
       "      <td>10805</td>\n",
       "      <td>10562178</td>\n",
       "    </tr>\n",
       "    <tr>\n",
       "      <th>25</th>\n",
       "      <td>Slovakia</td>\n",
       "      <td>9.7</td>\n",
       "      <td>81226.1</td>\n",
       "      <td>10466</td>\n",
       "      <td>5397036</td>\n",
       "    </tr>\n",
       "    <tr>\n",
       "      <th>26</th>\n",
       "      <td>Slovenia</td>\n",
       "      <td>8.0</td>\n",
       "      <td>40357.2</td>\n",
       "      <td>15250</td>\n",
       "      <td>2050189</td>\n",
       "    </tr>\n",
       "    <tr>\n",
       "      <th>29</th>\n",
       "      <td>Switzerland</td>\n",
       "      <td>5.0</td>\n",
       "      <td>605753.7</td>\n",
       "      <td>27692</td>\n",
       "      <td>7954662</td>\n",
       "    </tr>\n",
       "  </tbody>\n",
       "</table>\n",
       "</div>"
      ],
      "text/plain": [
       "        country  unemp_rate        gdp  median_income  total_pop\n",
       "1       Belgium         7.8   424660.3          21335   11000638\n",
       "2      Bulgaria         7.6    48128.6           6742    7364570\n",
       "8       Finland         8.8   216073.0          19997    5375276\n",
       "13      Iceland         3.0    18646.1          22193     315556\n",
       "14      Ireland         8.4   273238.2          18286    4574888\n",
       "15        Italy        11.7  1689824.0          16237   59433744\n",
       "16       Latvia         9.6    25037.7           9257    2070371\n",
       "17    Lithuania         7.9    38849.4           9364    3043429\n",
       "18   Luxembourg         6.3    53303.0          28663     512353\n",
       "19        Malta         4.7    10344.1          17264     417432\n",
       "20  Netherlands         6.0   708337.0          21189   16655799\n",
       "22       Poland         6.2   426547.5          10865   38044565\n",
       "23     Portugal        11.2   186480.5          10805   10562178\n",
       "25     Slovakia         9.7    81226.1          10466    5397036\n",
       "26     Slovenia         8.0    40357.2          15250    2050189\n",
       "29  Switzerland         5.0   605753.7          27692    7954662"
      ]
     },
     "execution_count": 159,
     "metadata": {},
     "output_type": "execute_result"
    }
   ],
   "source": [
    "eur_data_final[l_names_insensitive]"
   ]
  },
  {
   "cell_type": "code",
   "execution_count": 174,
   "metadata": {},
   "outputs": [],
   "source": [
    "# What if we want to combine multiple queries?\n",
    "low_unemployment = eur_data_final.unemp_rate < 7"
   ]
  },
  {
   "cell_type": "code",
   "execution_count": 175,
   "metadata": {},
   "outputs": [
    {
     "ename": "ValueError",
     "evalue": "The truth value of a Series is ambiguous. Use a.empty, a.bool(), a.item(), a.any() or a.all().",
     "output_type": "error",
     "traceback": [
      "\u001b[0;31m---------------------------------------------------------------------------\u001b[0m",
      "\u001b[0;31mValueError\u001b[0m                                Traceback (most recent call last)",
      "\u001b[0;32m<ipython-input-175-5c94a1859267>\u001b[0m in \u001b[0;36m<module>\u001b[0;34m\u001b[0m\n\u001b[0;32m----> 1\u001b[0;31m \u001b[0meur_data_final\u001b[0m\u001b[0;34m[\u001b[0m\u001b[0ml_names_insensitive\u001b[0m \u001b[0;32mand\u001b[0m \u001b[0mlow_unemployment\u001b[0m\u001b[0;34m]\u001b[0m\u001b[0;34m\u001b[0m\u001b[0;34m\u001b[0m\u001b[0m\n\u001b[0m",
      "\u001b[0;32m/usr/local/lib/python3.7/site-packages/pandas/core/generic.py\u001b[0m in \u001b[0;36m__nonzero__\u001b[0;34m(self)\u001b[0m\n\u001b[1;32m   1553\u001b[0m             \u001b[0;34m\"The truth value of a {0} is ambiguous. \"\u001b[0m\u001b[0;34m\u001b[0m\u001b[0;34m\u001b[0m\u001b[0m\n\u001b[1;32m   1554\u001b[0m             \"Use a.empty, a.bool(), a.item(), a.any() or a.all().\".format(\n\u001b[0;32m-> 1555\u001b[0;31m                 \u001b[0mself\u001b[0m\u001b[0;34m.\u001b[0m\u001b[0m__class__\u001b[0m\u001b[0;34m.\u001b[0m\u001b[0m__name__\u001b[0m\u001b[0;34m\u001b[0m\u001b[0;34m\u001b[0m\u001b[0m\n\u001b[0m\u001b[1;32m   1556\u001b[0m             )\n\u001b[1;32m   1557\u001b[0m         )\n",
      "\u001b[0;31mValueError\u001b[0m: The truth value of a Series is ambiguous. Use a.empty, a.bool(), a.item(), a.any() or a.all()."
     ]
    }
   ],
   "source": [
    "eur_data_final[l_names_insensitive and low_unemployment]"
   ]
  },
  {
   "cell_type": "code",
   "execution_count": 171,
   "metadata": {},
   "outputs": [
    {
     "data": {
      "text/html": [
       "<div>\n",
       "<style scoped>\n",
       "    .dataframe tbody tr th:only-of-type {\n",
       "        vertical-align: middle;\n",
       "    }\n",
       "\n",
       "    .dataframe tbody tr th {\n",
       "        vertical-align: top;\n",
       "    }\n",
       "\n",
       "    .dataframe thead th {\n",
       "        text-align: right;\n",
       "    }\n",
       "</style>\n",
       "<table border=\"1\" class=\"dataframe\">\n",
       "  <thead>\n",
       "    <tr style=\"text-align: right;\">\n",
       "      <th></th>\n",
       "      <th>country</th>\n",
       "      <th>unemp_rate</th>\n",
       "      <th>gdp</th>\n",
       "      <th>median_income</th>\n",
       "      <th>total_pop</th>\n",
       "    </tr>\n",
       "  </thead>\n",
       "  <tbody>\n",
       "    <tr>\n",
       "      <th>13</th>\n",
       "      <td>Iceland</td>\n",
       "      <td>3.0</td>\n",
       "      <td>18646.1</td>\n",
       "      <td>22193</td>\n",
       "      <td>315556</td>\n",
       "    </tr>\n",
       "    <tr>\n",
       "      <th>19</th>\n",
       "      <td>Malta</td>\n",
       "      <td>4.7</td>\n",
       "      <td>10344.1</td>\n",
       "      <td>17264</td>\n",
       "      <td>417432</td>\n",
       "    </tr>\n",
       "    <tr>\n",
       "      <th>29</th>\n",
       "      <td>Switzerland</td>\n",
       "      <td>5.0</td>\n",
       "      <td>605753.7</td>\n",
       "      <td>27692</td>\n",
       "      <td>7954662</td>\n",
       "    </tr>\n",
       "  </tbody>\n",
       "</table>\n",
       "</div>"
      ],
      "text/plain": [
       "        country  unemp_rate       gdp  median_income  total_pop\n",
       "13      Iceland         3.0   18646.1          22193     315556\n",
       "19        Malta         4.7   10344.1          17264     417432\n",
       "29  Switzerland         5.0  605753.7          27692    7954662"
      ]
     },
     "execution_count": 171,
     "metadata": {},
     "output_type": "execute_result"
    }
   ],
   "source": [
    "# In set theory, this is intersection.\n",
    "eur_data_final[l_names_insensitive & low_unemployment]"
   ]
  },
  {
   "cell_type": "code",
   "execution_count": 172,
   "metadata": {},
   "outputs": [
    {
     "data": {
      "text/html": [
       "<div>\n",
       "<style scoped>\n",
       "    .dataframe tbody tr th:only-of-type {\n",
       "        vertical-align: middle;\n",
       "    }\n",
       "\n",
       "    .dataframe tbody tr th {\n",
       "        vertical-align: top;\n",
       "    }\n",
       "\n",
       "    .dataframe thead th {\n",
       "        text-align: right;\n",
       "    }\n",
       "</style>\n",
       "<table border=\"1\" class=\"dataframe\">\n",
       "  <thead>\n",
       "    <tr style=\"text-align: right;\">\n",
       "      <th></th>\n",
       "      <th>country</th>\n",
       "      <th>unemp_rate</th>\n",
       "      <th>gdp</th>\n",
       "      <th>median_income</th>\n",
       "      <th>total_pop</th>\n",
       "    </tr>\n",
       "  </thead>\n",
       "  <tbody>\n",
       "    <tr>\n",
       "      <th>1</th>\n",
       "      <td>Belgium</td>\n",
       "      <td>7.8</td>\n",
       "      <td>424660.3</td>\n",
       "      <td>21335</td>\n",
       "      <td>11000638</td>\n",
       "    </tr>\n",
       "    <tr>\n",
       "      <th>2</th>\n",
       "      <td>Bulgaria</td>\n",
       "      <td>7.6</td>\n",
       "      <td>48128.6</td>\n",
       "      <td>6742</td>\n",
       "      <td>7364570</td>\n",
       "    </tr>\n",
       "    <tr>\n",
       "      <th>5</th>\n",
       "      <td>Czechia</td>\n",
       "      <td>4.0</td>\n",
       "      <td>176370.1</td>\n",
       "      <td>12478</td>\n",
       "      <td>10436560</td>\n",
       "    </tr>\n",
       "    <tr>\n",
       "      <th>8</th>\n",
       "      <td>Finland</td>\n",
       "      <td>8.8</td>\n",
       "      <td>216073.0</td>\n",
       "      <td>19997</td>\n",
       "      <td>5375276</td>\n",
       "    </tr>\n",
       "    <tr>\n",
       "      <th>10</th>\n",
       "      <td>Germany</td>\n",
       "      <td>4.1</td>\n",
       "      <td>3159750.0</td>\n",
       "      <td>21152</td>\n",
       "      <td>80219695</td>\n",
       "    </tr>\n",
       "    <tr>\n",
       "      <th>12</th>\n",
       "      <td>Hungary</td>\n",
       "      <td>5.1</td>\n",
       "      <td>113903.8</td>\n",
       "      <td>8267</td>\n",
       "      <td>9937628</td>\n",
       "    </tr>\n",
       "    <tr>\n",
       "      <th>13</th>\n",
       "      <td>Iceland</td>\n",
       "      <td>3.0</td>\n",
       "      <td>18646.1</td>\n",
       "      <td>22193</td>\n",
       "      <td>315556</td>\n",
       "    </tr>\n",
       "    <tr>\n",
       "      <th>14</th>\n",
       "      <td>Ireland</td>\n",
       "      <td>8.4</td>\n",
       "      <td>273238.2</td>\n",
       "      <td>18286</td>\n",
       "      <td>4574888</td>\n",
       "    </tr>\n",
       "    <tr>\n",
       "      <th>15</th>\n",
       "      <td>Italy</td>\n",
       "      <td>11.7</td>\n",
       "      <td>1689824.0</td>\n",
       "      <td>16237</td>\n",
       "      <td>59433744</td>\n",
       "    </tr>\n",
       "    <tr>\n",
       "      <th>19</th>\n",
       "      <td>Malta</td>\n",
       "      <td>4.7</td>\n",
       "      <td>10344.1</td>\n",
       "      <td>17264</td>\n",
       "      <td>417432</td>\n",
       "    </tr>\n",
       "    <tr>\n",
       "      <th>20</th>\n",
       "      <td>Netherlands</td>\n",
       "      <td>6.0</td>\n",
       "      <td>708337.0</td>\n",
       "      <td>21189</td>\n",
       "      <td>16655799</td>\n",
       "    </tr>\n",
       "    <tr>\n",
       "      <th>21</th>\n",
       "      <td>Norway</td>\n",
       "      <td>4.7</td>\n",
       "      <td>335747.5</td>\n",
       "      <td>27670</td>\n",
       "      <td>4979954</td>\n",
       "    </tr>\n",
       "    <tr>\n",
       "      <th>22</th>\n",
       "      <td>Poland</td>\n",
       "      <td>6.2</td>\n",
       "      <td>426547.5</td>\n",
       "      <td>10865</td>\n",
       "      <td>38044565</td>\n",
       "    </tr>\n",
       "    <tr>\n",
       "      <th>23</th>\n",
       "      <td>Portugal</td>\n",
       "      <td>11.2</td>\n",
       "      <td>186480.5</td>\n",
       "      <td>10805</td>\n",
       "      <td>10562178</td>\n",
       "    </tr>\n",
       "    <tr>\n",
       "      <th>24</th>\n",
       "      <td>Romania</td>\n",
       "      <td>5.9</td>\n",
       "      <td>170393.6</td>\n",
       "      <td>4724</td>\n",
       "      <td>20121641</td>\n",
       "    </tr>\n",
       "    <tr>\n",
       "      <th>25</th>\n",
       "      <td>Slovakia</td>\n",
       "      <td>9.7</td>\n",
       "      <td>81226.1</td>\n",
       "      <td>10466</td>\n",
       "      <td>5397036</td>\n",
       "    </tr>\n",
       "    <tr>\n",
       "      <th>26</th>\n",
       "      <td>Slovenia</td>\n",
       "      <td>8.0</td>\n",
       "      <td>40357.2</td>\n",
       "      <td>15250</td>\n",
       "      <td>2050189</td>\n",
       "    </tr>\n",
       "    <tr>\n",
       "      <th>29</th>\n",
       "      <td>Switzerland</td>\n",
       "      <td>5.0</td>\n",
       "      <td>605753.7</td>\n",
       "      <td>27692</td>\n",
       "      <td>7954662</td>\n",
       "    </tr>\n",
       "    <tr>\n",
       "      <th>31</th>\n",
       "      <td>United Kingdom</td>\n",
       "      <td>4.8</td>\n",
       "      <td>2403382.6</td>\n",
       "      <td>17296</td>\n",
       "      <td>63182180</td>\n",
       "    </tr>\n",
       "  </tbody>\n",
       "</table>\n",
       "</div>"
      ],
      "text/plain": [
       "           country  unemp_rate        gdp  median_income  total_pop\n",
       "1          Belgium         7.8   424660.3          21335   11000638\n",
       "2         Bulgaria         7.6    48128.6           6742    7364570\n",
       "5          Czechia         4.0   176370.1          12478   10436560\n",
       "8          Finland         8.8   216073.0          19997    5375276\n",
       "10         Germany         4.1  3159750.0          21152   80219695\n",
       "12         Hungary         5.1   113903.8           8267    9937628\n",
       "13         Iceland         3.0    18646.1          22193     315556\n",
       "14         Ireland         8.4   273238.2          18286    4574888\n",
       "15           Italy        11.7  1689824.0          16237   59433744\n",
       "19           Malta         4.7    10344.1          17264     417432\n",
       "20     Netherlands         6.0   708337.0          21189   16655799\n",
       "21          Norway         4.7   335747.5          27670    4979954\n",
       "22          Poland         6.2   426547.5          10865   38044565\n",
       "23        Portugal        11.2   186480.5          10805   10562178\n",
       "24         Romania         5.9   170393.6           4724   20121641\n",
       "25        Slovakia         9.7    81226.1          10466    5397036\n",
       "26        Slovenia         8.0    40357.2          15250    2050189\n",
       "29     Switzerland         5.0   605753.7          27692    7954662\n",
       "31  United Kingdom         4.8  2403382.6          17296   63182180"
      ]
     },
     "execution_count": 172,
     "metadata": {},
     "output_type": "execute_result"
    }
   ],
   "source": [
    "# How about or? In set theory, this is union.\n",
    "eur_data_final[l_names | low_unemployment]"
   ]
  },
  {
   "cell_type": "code",
   "execution_count": 176,
   "metadata": {},
   "outputs": [
    {
     "data": {
      "text/html": [
       "<div>\n",
       "<style scoped>\n",
       "    .dataframe tbody tr th:only-of-type {\n",
       "        vertical-align: middle;\n",
       "    }\n",
       "\n",
       "    .dataframe tbody tr th {\n",
       "        vertical-align: top;\n",
       "    }\n",
       "\n",
       "    .dataframe thead th {\n",
       "        text-align: right;\n",
       "    }\n",
       "</style>\n",
       "<table border=\"1\" class=\"dataframe\">\n",
       "  <thead>\n",
       "    <tr style=\"text-align: right;\">\n",
       "      <th></th>\n",
       "      <th>country</th>\n",
       "      <th>unemp_rate</th>\n",
       "      <th>gdp</th>\n",
       "      <th>median_income</th>\n",
       "      <th>total_pop</th>\n",
       "    </tr>\n",
       "  </thead>\n",
       "  <tbody>\n",
       "    <tr>\n",
       "      <th>1</th>\n",
       "      <td>Belgium</td>\n",
       "      <td>7.8</td>\n",
       "      <td>424660.3</td>\n",
       "      <td>21335</td>\n",
       "      <td>11000638</td>\n",
       "    </tr>\n",
       "    <tr>\n",
       "      <th>2</th>\n",
       "      <td>Bulgaria</td>\n",
       "      <td>7.6</td>\n",
       "      <td>48128.6</td>\n",
       "      <td>6742</td>\n",
       "      <td>7364570</td>\n",
       "    </tr>\n",
       "    <tr>\n",
       "      <th>3</th>\n",
       "      <td>Croatia</td>\n",
       "      <td>13.1</td>\n",
       "      <td>46639.5</td>\n",
       "      <td>8985</td>\n",
       "      <td>4284889</td>\n",
       "    </tr>\n",
       "    <tr>\n",
       "      <th>4</th>\n",
       "      <td>Cyprus</td>\n",
       "      <td>13.0</td>\n",
       "      <td>18490.2</td>\n",
       "      <td>16173</td>\n",
       "      <td>840407</td>\n",
       "    </tr>\n",
       "    <tr>\n",
       "      <th>8</th>\n",
       "      <td>Finland</td>\n",
       "      <td>8.8</td>\n",
       "      <td>216073.0</td>\n",
       "      <td>19997</td>\n",
       "      <td>5375276</td>\n",
       "    </tr>\n",
       "    <tr>\n",
       "      <th>9</th>\n",
       "      <td>France</td>\n",
       "      <td>10.1</td>\n",
       "      <td>2228568.0</td>\n",
       "      <td>20621</td>\n",
       "      <td>64933400</td>\n",
       "    </tr>\n",
       "    <tr>\n",
       "      <th>11</th>\n",
       "      <td>Greece</td>\n",
       "      <td>23.6</td>\n",
       "      <td>176487.9</td>\n",
       "      <td>9048</td>\n",
       "      <td>10816286</td>\n",
       "    </tr>\n",
       "    <tr>\n",
       "      <th>14</th>\n",
       "      <td>Ireland</td>\n",
       "      <td>8.4</td>\n",
       "      <td>273238.2</td>\n",
       "      <td>18286</td>\n",
       "      <td>4574888</td>\n",
       "    </tr>\n",
       "    <tr>\n",
       "      <th>15</th>\n",
       "      <td>Italy</td>\n",
       "      <td>11.7</td>\n",
       "      <td>1689824.0</td>\n",
       "      <td>16237</td>\n",
       "      <td>59433744</td>\n",
       "    </tr>\n",
       "    <tr>\n",
       "      <th>16</th>\n",
       "      <td>Latvia</td>\n",
       "      <td>9.6</td>\n",
       "      <td>25037.7</td>\n",
       "      <td>9257</td>\n",
       "      <td>2070371</td>\n",
       "    </tr>\n",
       "    <tr>\n",
       "      <th>17</th>\n",
       "      <td>Lithuania</td>\n",
       "      <td>7.9</td>\n",
       "      <td>38849.4</td>\n",
       "      <td>9364</td>\n",
       "      <td>3043429</td>\n",
       "    </tr>\n",
       "    <tr>\n",
       "      <th>23</th>\n",
       "      <td>Portugal</td>\n",
       "      <td>11.2</td>\n",
       "      <td>186480.5</td>\n",
       "      <td>10805</td>\n",
       "      <td>10562178</td>\n",
       "    </tr>\n",
       "    <tr>\n",
       "      <th>25</th>\n",
       "      <td>Slovakia</td>\n",
       "      <td>9.7</td>\n",
       "      <td>81226.1</td>\n",
       "      <td>10466</td>\n",
       "      <td>5397036</td>\n",
       "    </tr>\n",
       "    <tr>\n",
       "      <th>26</th>\n",
       "      <td>Slovenia</td>\n",
       "      <td>8.0</td>\n",
       "      <td>40357.2</td>\n",
       "      <td>15250</td>\n",
       "      <td>2050189</td>\n",
       "    </tr>\n",
       "    <tr>\n",
       "      <th>27</th>\n",
       "      <td>Spain</td>\n",
       "      <td>19.6</td>\n",
       "      <td>1118743.0</td>\n",
       "      <td>15347</td>\n",
       "      <td>46815910</td>\n",
       "    </tr>\n",
       "    <tr>\n",
       "      <th>28</th>\n",
       "      <td>Sweden</td>\n",
       "      <td>7.0</td>\n",
       "      <td>463147.5</td>\n",
       "      <td>20955</td>\n",
       "      <td>9482855</td>\n",
       "    </tr>\n",
       "    <tr>\n",
       "      <th>30</th>\n",
       "      <td>Turkey</td>\n",
       "      <td>10.9</td>\n",
       "      <td>780224.9</td>\n",
       "      <td>6501</td>\n",
       "      <td>7954662</td>\n",
       "    </tr>\n",
       "  </tbody>\n",
       "</table>\n",
       "</div>"
      ],
      "text/plain": [
       "      country  unemp_rate        gdp  median_income  total_pop\n",
       "1     Belgium         7.8   424660.3          21335   11000638\n",
       "2    Bulgaria         7.6    48128.6           6742    7364570\n",
       "3     Croatia        13.1    46639.5           8985    4284889\n",
       "4      Cyprus        13.0    18490.2          16173     840407\n",
       "8     Finland         8.8   216073.0          19997    5375276\n",
       "9      France        10.1  2228568.0          20621   64933400\n",
       "11     Greece        23.6   176487.9           9048   10816286\n",
       "14    Ireland         8.4   273238.2          18286    4574888\n",
       "15      Italy        11.7  1689824.0          16237   59433744\n",
       "16     Latvia         9.6    25037.7           9257    2070371\n",
       "17  Lithuania         7.9    38849.4           9364    3043429\n",
       "23   Portugal        11.2   186480.5          10805   10562178\n",
       "25   Slovakia         9.7    81226.1          10466    5397036\n",
       "26   Slovenia         8.0    40357.2          15250    2050189\n",
       "27      Spain        19.6  1118743.0          15347   46815910\n",
       "28     Sweden         7.0   463147.5          20955    9482855\n",
       "30     Turkey        10.9   780224.9           6501    7954662"
      ]
     },
     "execution_count": 176,
     "metadata": {},
     "output_type": "execute_result"
    }
   ],
   "source": [
    "eur_data_final[~low_unemployment]"
   ]
  },
  {
   "cell_type": "markdown",
   "metadata": {},
   "source": [
    "### What countries have an unemployment rate greater than 9% and a GDP less than 280000?"
   ]
  },
  {
   "cell_type": "code",
   "execution_count": 178,
   "metadata": {},
   "outputs": [],
   "source": [
    "# Start by making your queries\n",
    "high_unemployment = eur_data_final.unemp_rate > 10\n",
    "gdp_query = eur_data_final.gdp > 280000"
   ]
  },
  {
   "cell_type": "code",
   "execution_count": 179,
   "metadata": {},
   "outputs": [
    {
     "data": {
      "text/html": [
       "<div>\n",
       "<style scoped>\n",
       "    .dataframe tbody tr th:only-of-type {\n",
       "        vertical-align: middle;\n",
       "    }\n",
       "\n",
       "    .dataframe tbody tr th {\n",
       "        vertical-align: top;\n",
       "    }\n",
       "\n",
       "    .dataframe thead th {\n",
       "        text-align: right;\n",
       "    }\n",
       "</style>\n",
       "<table border=\"1\" class=\"dataframe\">\n",
       "  <thead>\n",
       "    <tr style=\"text-align: right;\">\n",
       "      <th></th>\n",
       "      <th>country</th>\n",
       "      <th>unemp_rate</th>\n",
       "      <th>gdp</th>\n",
       "      <th>median_income</th>\n",
       "      <th>total_pop</th>\n",
       "    </tr>\n",
       "  </thead>\n",
       "  <tbody>\n",
       "    <tr>\n",
       "      <th>9</th>\n",
       "      <td>France</td>\n",
       "      <td>10.1</td>\n",
       "      <td>2228568.0</td>\n",
       "      <td>20621</td>\n",
       "      <td>64933400</td>\n",
       "    </tr>\n",
       "    <tr>\n",
       "      <th>15</th>\n",
       "      <td>Italy</td>\n",
       "      <td>11.7</td>\n",
       "      <td>1689824.0</td>\n",
       "      <td>16237</td>\n",
       "      <td>59433744</td>\n",
       "    </tr>\n",
       "    <tr>\n",
       "      <th>27</th>\n",
       "      <td>Spain</td>\n",
       "      <td>19.6</td>\n",
       "      <td>1118743.0</td>\n",
       "      <td>15347</td>\n",
       "      <td>46815910</td>\n",
       "    </tr>\n",
       "    <tr>\n",
       "      <th>30</th>\n",
       "      <td>Turkey</td>\n",
       "      <td>10.9</td>\n",
       "      <td>780224.9</td>\n",
       "      <td>6501</td>\n",
       "      <td>7954662</td>\n",
       "    </tr>\n",
       "  </tbody>\n",
       "</table>\n",
       "</div>"
      ],
      "text/plain": [
       "   country  unemp_rate        gdp  median_income  total_pop\n",
       "9   France        10.1  2228568.0          20621   64933400\n",
       "15   Italy        11.7  1689824.0          16237   59433744\n",
       "27   Spain        19.6  1118743.0          15347   46815910\n",
       "30  Turkey        10.9   780224.9           6501    7954662"
      ]
     },
     "execution_count": 179,
     "metadata": {},
     "output_type": "execute_result"
    }
   ],
   "source": [
    "# Then combine them. Is it an and, or, or not?\n",
    "eur_data_final[high_unemployment & gdp_query]"
   ]
  },
  {
   "cell_type": "markdown",
   "metadata": {},
   "source": [
    "### What countries have a median_income between 10000 and 20000?"
   ]
  },
  {
   "cell_type": "code",
   "execution_count": 182,
   "metadata": {},
   "outputs": [],
   "source": [
    "# Consider combining queries that are similar\n",
    "# Also, use convenient notation!\n",
    "income_query = (eur_data_final.median_income > 10_000) & (eur_data_final.median_income < 20_000)"
   ]
  },
  {
   "cell_type": "code",
   "execution_count": 183,
   "metadata": {},
   "outputs": [
    {
     "data": {
      "text/html": [
       "<div>\n",
       "<style scoped>\n",
       "    .dataframe tbody tr th:only-of-type {\n",
       "        vertical-align: middle;\n",
       "    }\n",
       "\n",
       "    .dataframe tbody tr th {\n",
       "        vertical-align: top;\n",
       "    }\n",
       "\n",
       "    .dataframe thead th {\n",
       "        text-align: right;\n",
       "    }\n",
       "</style>\n",
       "<table border=\"1\" class=\"dataframe\">\n",
       "  <thead>\n",
       "    <tr style=\"text-align: right;\">\n",
       "      <th></th>\n",
       "      <th>country</th>\n",
       "      <th>unemp_rate</th>\n",
       "      <th>gdp</th>\n",
       "      <th>median_income</th>\n",
       "      <th>total_pop</th>\n",
       "    </tr>\n",
       "  </thead>\n",
       "  <tbody>\n",
       "    <tr>\n",
       "      <th>4</th>\n",
       "      <td>Cyprus</td>\n",
       "      <td>13.0</td>\n",
       "      <td>18490.2</td>\n",
       "      <td>16173</td>\n",
       "      <td>840407</td>\n",
       "    </tr>\n",
       "    <tr>\n",
       "      <th>5</th>\n",
       "      <td>Czechia</td>\n",
       "      <td>4.0</td>\n",
       "      <td>176370.1</td>\n",
       "      <td>12478</td>\n",
       "      <td>10436560</td>\n",
       "    </tr>\n",
       "    <tr>\n",
       "      <th>7</th>\n",
       "      <td>Estonia</td>\n",
       "      <td>6.8</td>\n",
       "      <td>21682.6</td>\n",
       "      <td>11867</td>\n",
       "      <td>1294455</td>\n",
       "    </tr>\n",
       "    <tr>\n",
       "      <th>8</th>\n",
       "      <td>Finland</td>\n",
       "      <td>8.8</td>\n",
       "      <td>216073.0</td>\n",
       "      <td>19997</td>\n",
       "      <td>5375276</td>\n",
       "    </tr>\n",
       "    <tr>\n",
       "      <th>14</th>\n",
       "      <td>Ireland</td>\n",
       "      <td>8.4</td>\n",
       "      <td>273238.2</td>\n",
       "      <td>18286</td>\n",
       "      <td>4574888</td>\n",
       "    </tr>\n",
       "    <tr>\n",
       "      <th>15</th>\n",
       "      <td>Italy</td>\n",
       "      <td>11.7</td>\n",
       "      <td>1689824.0</td>\n",
       "      <td>16237</td>\n",
       "      <td>59433744</td>\n",
       "    </tr>\n",
       "    <tr>\n",
       "      <th>19</th>\n",
       "      <td>Malta</td>\n",
       "      <td>4.7</td>\n",
       "      <td>10344.1</td>\n",
       "      <td>17264</td>\n",
       "      <td>417432</td>\n",
       "    </tr>\n",
       "    <tr>\n",
       "      <th>22</th>\n",
       "      <td>Poland</td>\n",
       "      <td>6.2</td>\n",
       "      <td>426547.5</td>\n",
       "      <td>10865</td>\n",
       "      <td>38044565</td>\n",
       "    </tr>\n",
       "    <tr>\n",
       "      <th>23</th>\n",
       "      <td>Portugal</td>\n",
       "      <td>11.2</td>\n",
       "      <td>186480.5</td>\n",
       "      <td>10805</td>\n",
       "      <td>10562178</td>\n",
       "    </tr>\n",
       "    <tr>\n",
       "      <th>25</th>\n",
       "      <td>Slovakia</td>\n",
       "      <td>9.7</td>\n",
       "      <td>81226.1</td>\n",
       "      <td>10466</td>\n",
       "      <td>5397036</td>\n",
       "    </tr>\n",
       "    <tr>\n",
       "      <th>26</th>\n",
       "      <td>Slovenia</td>\n",
       "      <td>8.0</td>\n",
       "      <td>40357.2</td>\n",
       "      <td>15250</td>\n",
       "      <td>2050189</td>\n",
       "    </tr>\n",
       "    <tr>\n",
       "      <th>27</th>\n",
       "      <td>Spain</td>\n",
       "      <td>19.6</td>\n",
       "      <td>1118743.0</td>\n",
       "      <td>15347</td>\n",
       "      <td>46815910</td>\n",
       "    </tr>\n",
       "    <tr>\n",
       "      <th>31</th>\n",
       "      <td>United Kingdom</td>\n",
       "      <td>4.8</td>\n",
       "      <td>2403382.6</td>\n",
       "      <td>17296</td>\n",
       "      <td>63182180</td>\n",
       "    </tr>\n",
       "  </tbody>\n",
       "</table>\n",
       "</div>"
      ],
      "text/plain": [
       "           country  unemp_rate        gdp  median_income  total_pop\n",
       "4           Cyprus        13.0    18490.2          16173     840407\n",
       "5          Czechia         4.0   176370.1          12478   10436560\n",
       "7          Estonia         6.8    21682.6          11867    1294455\n",
       "8          Finland         8.8   216073.0          19997    5375276\n",
       "14         Ireland         8.4   273238.2          18286    4574888\n",
       "15           Italy        11.7  1689824.0          16237   59433744\n",
       "19           Malta         4.7    10344.1          17264     417432\n",
       "22          Poland         6.2   426547.5          10865   38044565\n",
       "23        Portugal        11.2   186480.5          10805   10562178\n",
       "25        Slovakia         9.7    81226.1          10466    5397036\n",
       "26        Slovenia         8.0    40357.2          15250    2050189\n",
       "27           Spain        19.6  1118743.0          15347   46815910\n",
       "31  United Kingdom         4.8  2403382.6          17296   63182180"
      ]
     },
     "execution_count": 183,
     "metadata": {},
     "output_type": "execute_result"
    }
   ],
   "source": [
    "eur_data_final[income_query]"
   ]
  },
  {
   "cell_type": "code",
   "execution_count": 185,
   "metadata": {},
   "outputs": [],
   "source": [
    "# Alternative way\n",
    "income_query_alt = eur_data_final.median_income.between(10_000, 20_000, inclusive=True)"
   ]
  },
  {
   "cell_type": "code",
   "execution_count": 186,
   "metadata": {},
   "outputs": [
    {
     "data": {
      "text/html": [
       "<div>\n",
       "<style scoped>\n",
       "    .dataframe tbody tr th:only-of-type {\n",
       "        vertical-align: middle;\n",
       "    }\n",
       "\n",
       "    .dataframe tbody tr th {\n",
       "        vertical-align: top;\n",
       "    }\n",
       "\n",
       "    .dataframe thead th {\n",
       "        text-align: right;\n",
       "    }\n",
       "</style>\n",
       "<table border=\"1\" class=\"dataframe\">\n",
       "  <thead>\n",
       "    <tr style=\"text-align: right;\">\n",
       "      <th></th>\n",
       "      <th>country</th>\n",
       "      <th>unemp_rate</th>\n",
       "      <th>gdp</th>\n",
       "      <th>median_income</th>\n",
       "      <th>total_pop</th>\n",
       "    </tr>\n",
       "  </thead>\n",
       "  <tbody>\n",
       "    <tr>\n",
       "      <th>4</th>\n",
       "      <td>Cyprus</td>\n",
       "      <td>13.0</td>\n",
       "      <td>18490.2</td>\n",
       "      <td>16173</td>\n",
       "      <td>840407</td>\n",
       "    </tr>\n",
       "    <tr>\n",
       "      <th>5</th>\n",
       "      <td>Czechia</td>\n",
       "      <td>4.0</td>\n",
       "      <td>176370.1</td>\n",
       "      <td>12478</td>\n",
       "      <td>10436560</td>\n",
       "    </tr>\n",
       "    <tr>\n",
       "      <th>7</th>\n",
       "      <td>Estonia</td>\n",
       "      <td>6.8</td>\n",
       "      <td>21682.6</td>\n",
       "      <td>11867</td>\n",
       "      <td>1294455</td>\n",
       "    </tr>\n",
       "    <tr>\n",
       "      <th>8</th>\n",
       "      <td>Finland</td>\n",
       "      <td>8.8</td>\n",
       "      <td>216073.0</td>\n",
       "      <td>19997</td>\n",
       "      <td>5375276</td>\n",
       "    </tr>\n",
       "    <tr>\n",
       "      <th>14</th>\n",
       "      <td>Ireland</td>\n",
       "      <td>8.4</td>\n",
       "      <td>273238.2</td>\n",
       "      <td>18286</td>\n",
       "      <td>4574888</td>\n",
       "    </tr>\n",
       "    <tr>\n",
       "      <th>15</th>\n",
       "      <td>Italy</td>\n",
       "      <td>11.7</td>\n",
       "      <td>1689824.0</td>\n",
       "      <td>16237</td>\n",
       "      <td>59433744</td>\n",
       "    </tr>\n",
       "    <tr>\n",
       "      <th>19</th>\n",
       "      <td>Malta</td>\n",
       "      <td>4.7</td>\n",
       "      <td>10344.1</td>\n",
       "      <td>17264</td>\n",
       "      <td>417432</td>\n",
       "    </tr>\n",
       "    <tr>\n",
       "      <th>22</th>\n",
       "      <td>Poland</td>\n",
       "      <td>6.2</td>\n",
       "      <td>426547.5</td>\n",
       "      <td>10865</td>\n",
       "      <td>38044565</td>\n",
       "    </tr>\n",
       "    <tr>\n",
       "      <th>23</th>\n",
       "      <td>Portugal</td>\n",
       "      <td>11.2</td>\n",
       "      <td>186480.5</td>\n",
       "      <td>10805</td>\n",
       "      <td>10562178</td>\n",
       "    </tr>\n",
       "    <tr>\n",
       "      <th>25</th>\n",
       "      <td>Slovakia</td>\n",
       "      <td>9.7</td>\n",
       "      <td>81226.1</td>\n",
       "      <td>10466</td>\n",
       "      <td>5397036</td>\n",
       "    </tr>\n",
       "    <tr>\n",
       "      <th>26</th>\n",
       "      <td>Slovenia</td>\n",
       "      <td>8.0</td>\n",
       "      <td>40357.2</td>\n",
       "      <td>15250</td>\n",
       "      <td>2050189</td>\n",
       "    </tr>\n",
       "    <tr>\n",
       "      <th>27</th>\n",
       "      <td>Spain</td>\n",
       "      <td>19.6</td>\n",
       "      <td>1118743.0</td>\n",
       "      <td>15347</td>\n",
       "      <td>46815910</td>\n",
       "    </tr>\n",
       "    <tr>\n",
       "      <th>31</th>\n",
       "      <td>United Kingdom</td>\n",
       "      <td>4.8</td>\n",
       "      <td>2403382.6</td>\n",
       "      <td>17296</td>\n",
       "      <td>63182180</td>\n",
       "    </tr>\n",
       "  </tbody>\n",
       "</table>\n",
       "</div>"
      ],
      "text/plain": [
       "           country  unemp_rate        gdp  median_income  total_pop\n",
       "4           Cyprus        13.0    18490.2          16173     840407\n",
       "5          Czechia         4.0   176370.1          12478   10436560\n",
       "7          Estonia         6.8    21682.6          11867    1294455\n",
       "8          Finland         8.8   216073.0          19997    5375276\n",
       "14         Ireland         8.4   273238.2          18286    4574888\n",
       "15           Italy        11.7  1689824.0          16237   59433744\n",
       "19           Malta         4.7    10344.1          17264     417432\n",
       "22          Poland         6.2   426547.5          10865   38044565\n",
       "23        Portugal        11.2   186480.5          10805   10562178\n",
       "25        Slovakia         9.7    81226.1          10466    5397036\n",
       "26        Slovenia         8.0    40357.2          15250    2050189\n",
       "27           Spain        19.6  1118743.0          15347   46815910\n",
       "31  United Kingdom         4.8  2403382.6          17296   63182180"
      ]
     },
     "execution_count": 186,
     "metadata": {},
     "output_type": "execute_result"
    }
   ],
   "source": [
    "eur_data_final[income_query_alt]"
   ]
  },
  {
   "cell_type": "code",
   "execution_count": 246,
   "metadata": {},
   "outputs": [],
   "source": [
    "### Now let's look at selection in dataframes, using the existing indexes."
   ]
  },
  {
   "cell_type": "code",
   "execution_count": 187,
   "metadata": {},
   "outputs": [],
   "source": [
    "# So what is an index anyway?\n",
    "# It's a lot like a python dictionary\n",
    "countries = {\n",
    "    15: {'country': 'Italy', \n",
    "         'unemp_rate': 11.7, \n",
    "         'gdp': 1689824.0, \n",
    "         'median_income': 16237, \n",
    "         'total_pop': 59433744\n",
    "        }\n",
    "}"
   ]
  },
  {
   "cell_type": "code",
   "execution_count": 188,
   "metadata": {},
   "outputs": [
    {
     "data": {
      "text/plain": [
       "'Italy'"
      ]
     },
     "execution_count": 188,
     "metadata": {},
     "output_type": "execute_result"
    }
   ],
   "source": [
    "# With vanilla python, how do we get the word 'Italy' from a dictionary?\n",
    "countries[15]['country']"
   ]
  },
  {
   "cell_type": "code",
   "execution_count": 189,
   "metadata": {},
   "outputs": [
    {
     "data": {
      "text/plain": [
       "'Italy'"
      ]
     },
     "execution_count": 189,
     "metadata": {},
     "output_type": "execute_result"
    }
   ],
   "source": [
    "# Now how do we get the word 'Italy' from a pandas dataframe?\n",
    "# Let's use loc!\n",
    "eur_data_final.loc[15, 'country']"
   ]
  },
  {
   "cell_type": "code",
   "execution_count": 190,
   "metadata": {},
   "outputs": [
    {
     "data": {
      "text/plain": [
       "113903.8"
      ]
     },
     "execution_count": 190,
     "metadata": {},
     "output_type": "execute_result"
    }
   ],
   "source": [
    "# So what is loc? \n",
    "# It is short for locate and is a very dynamic method. One of the reasons that I find it hard to understand.\n",
    "# In the case above, it is used like a grid. We go by row index, then by column name.\n",
    "eur_data_final.loc[12, 'gdp']"
   ]
  },
  {
   "cell_type": "code",
   "execution_count": 191,
   "metadata": {},
   "outputs": [
    {
     "data": {
      "text/plain": [
       "country          Hungary\n",
       "unemp_rate           5.1\n",
       "gdp               113904\n",
       "median_income       8267\n",
       "total_pop        9937628\n",
       "Name: 12, dtype: object"
      ]
     },
     "execution_count": 191,
     "metadata": {},
     "output_type": "execute_result"
    }
   ],
   "source": [
    "# You can also return the whole row.\n",
    "eur_data_final.loc[12]"
   ]
  },
  {
   "cell_type": "code",
   "execution_count": 194,
   "metadata": {},
   "outputs": [
    {
     "data": {
      "text/plain": [
       "gdp           216073\n",
       "total_pop    5375276\n",
       "Name: 8, dtype: object"
      ]
     },
     "execution_count": 194,
     "metadata": {},
     "output_type": "execute_result"
    }
   ],
   "source": [
    "# Or you can select parts of a row\n",
    "eur_data_final.loc[8, ['gdp', 'total_pop']]"
   ]
  },
  {
   "cell_type": "code",
   "execution_count": 195,
   "metadata": {},
   "outputs": [
    {
     "data": {
      "text/html": [
       "<div>\n",
       "<style scoped>\n",
       "    .dataframe tbody tr th:only-of-type {\n",
       "        vertical-align: middle;\n",
       "    }\n",
       "\n",
       "    .dataframe tbody tr th {\n",
       "        vertical-align: top;\n",
       "    }\n",
       "\n",
       "    .dataframe thead th {\n",
       "        text-align: right;\n",
       "    }\n",
       "</style>\n",
       "<table border=\"1\" class=\"dataframe\">\n",
       "  <thead>\n",
       "    <tr style=\"text-align: right;\">\n",
       "      <th></th>\n",
       "      <th>country</th>\n",
       "      <th>gdp</th>\n",
       "    </tr>\n",
       "  </thead>\n",
       "  <tbody>\n",
       "    <tr>\n",
       "      <th>9</th>\n",
       "      <td>France</td>\n",
       "      <td>2228568.0</td>\n",
       "    </tr>\n",
       "    <tr>\n",
       "      <th>10</th>\n",
       "      <td>Germany</td>\n",
       "      <td>3159750.0</td>\n",
       "    </tr>\n",
       "  </tbody>\n",
       "</table>\n",
       "</div>"
      ],
      "text/plain": [
       "    country        gdp\n",
       "9    France  2228568.0\n",
       "10  Germany  3159750.0"
      ]
     },
     "execution_count": 195,
     "metadata": {},
     "output_type": "execute_result"
    }
   ],
   "source": [
    "eur_data_final.loc[[9,10], ['country','gdp']]"
   ]
  },
  {
   "cell_type": "code",
   "execution_count": 203,
   "metadata": {},
   "outputs": [
    {
     "data": {
      "text/html": [
       "<div>\n",
       "<style scoped>\n",
       "    .dataframe tbody tr th:only-of-type {\n",
       "        vertical-align: middle;\n",
       "    }\n",
       "\n",
       "    .dataframe tbody tr th {\n",
       "        vertical-align: top;\n",
       "    }\n",
       "\n",
       "    .dataframe thead th {\n",
       "        text-align: right;\n",
       "    }\n",
       "</style>\n",
       "<table border=\"1\" class=\"dataframe\">\n",
       "  <thead>\n",
       "    <tr style=\"text-align: right;\">\n",
       "      <th></th>\n",
       "      <th>unemp_rate</th>\n",
       "      <th>gdp</th>\n",
       "      <th>median_income</th>\n",
       "      <th>total_pop</th>\n",
       "    </tr>\n",
       "    <tr>\n",
       "      <th>country</th>\n",
       "      <th></th>\n",
       "      <th></th>\n",
       "      <th></th>\n",
       "      <th></th>\n",
       "    </tr>\n",
       "  </thead>\n",
       "  <tbody>\n",
       "    <tr>\n",
       "      <th>Austria</th>\n",
       "      <td>6.0</td>\n",
       "      <td>356237.6</td>\n",
       "      <td>23071</td>\n",
       "      <td>8401940</td>\n",
       "    </tr>\n",
       "    <tr>\n",
       "      <th>Belgium</th>\n",
       "      <td>7.8</td>\n",
       "      <td>424660.3</td>\n",
       "      <td>21335</td>\n",
       "      <td>11000638</td>\n",
       "    </tr>\n",
       "    <tr>\n",
       "      <th>Bulgaria</th>\n",
       "      <td>7.6</td>\n",
       "      <td>48128.6</td>\n",
       "      <td>6742</td>\n",
       "      <td>7364570</td>\n",
       "    </tr>\n",
       "    <tr>\n",
       "      <th>Croatia</th>\n",
       "      <td>13.1</td>\n",
       "      <td>46639.5</td>\n",
       "      <td>8985</td>\n",
       "      <td>4284889</td>\n",
       "    </tr>\n",
       "    <tr>\n",
       "      <th>Cyprus</th>\n",
       "      <td>13.0</td>\n",
       "      <td>18490.2</td>\n",
       "      <td>16173</td>\n",
       "      <td>840407</td>\n",
       "    </tr>\n",
       "    <tr>\n",
       "      <th>Czechia</th>\n",
       "      <td>4.0</td>\n",
       "      <td>176370.1</td>\n",
       "      <td>12478</td>\n",
       "      <td>10436560</td>\n",
       "    </tr>\n",
       "    <tr>\n",
       "      <th>Denmark</th>\n",
       "      <td>6.2</td>\n",
       "      <td>282089.9</td>\n",
       "      <td>21355</td>\n",
       "      <td>5560628</td>\n",
       "    </tr>\n",
       "    <tr>\n",
       "      <th>Estonia</th>\n",
       "      <td>6.8</td>\n",
       "      <td>21682.6</td>\n",
       "      <td>11867</td>\n",
       "      <td>1294455</td>\n",
       "    </tr>\n",
       "    <tr>\n",
       "      <th>Finland</th>\n",
       "      <td>8.8</td>\n",
       "      <td>216073.0</td>\n",
       "      <td>19997</td>\n",
       "      <td>5375276</td>\n",
       "    </tr>\n",
       "    <tr>\n",
       "      <th>France</th>\n",
       "      <td>10.1</td>\n",
       "      <td>2228568.0</td>\n",
       "      <td>20621</td>\n",
       "      <td>64933400</td>\n",
       "    </tr>\n",
       "    <tr>\n",
       "      <th>Germany</th>\n",
       "      <td>4.1</td>\n",
       "      <td>3159750.0</td>\n",
       "      <td>21152</td>\n",
       "      <td>80219695</td>\n",
       "    </tr>\n",
       "    <tr>\n",
       "      <th>Greece</th>\n",
       "      <td>23.6</td>\n",
       "      <td>176487.9</td>\n",
       "      <td>9048</td>\n",
       "      <td>10816286</td>\n",
       "    </tr>\n",
       "    <tr>\n",
       "      <th>Hungary</th>\n",
       "      <td>5.1</td>\n",
       "      <td>113903.8</td>\n",
       "      <td>8267</td>\n",
       "      <td>9937628</td>\n",
       "    </tr>\n",
       "    <tr>\n",
       "      <th>Iceland</th>\n",
       "      <td>3.0</td>\n",
       "      <td>18646.1</td>\n",
       "      <td>22193</td>\n",
       "      <td>315556</td>\n",
       "    </tr>\n",
       "    <tr>\n",
       "      <th>Ireland</th>\n",
       "      <td>8.4</td>\n",
       "      <td>273238.2</td>\n",
       "      <td>18286</td>\n",
       "      <td>4574888</td>\n",
       "    </tr>\n",
       "    <tr>\n",
       "      <th>Italy</th>\n",
       "      <td>11.7</td>\n",
       "      <td>1689824.0</td>\n",
       "      <td>16237</td>\n",
       "      <td>59433744</td>\n",
       "    </tr>\n",
       "    <tr>\n",
       "      <th>Latvia</th>\n",
       "      <td>9.6</td>\n",
       "      <td>25037.7</td>\n",
       "      <td>9257</td>\n",
       "      <td>2070371</td>\n",
       "    </tr>\n",
       "    <tr>\n",
       "      <th>Lithuania</th>\n",
       "      <td>7.9</td>\n",
       "      <td>38849.4</td>\n",
       "      <td>9364</td>\n",
       "      <td>3043429</td>\n",
       "    </tr>\n",
       "    <tr>\n",
       "      <th>Luxembourg</th>\n",
       "      <td>6.3</td>\n",
       "      <td>53303.0</td>\n",
       "      <td>28663</td>\n",
       "      <td>512353</td>\n",
       "    </tr>\n",
       "    <tr>\n",
       "      <th>Malta</th>\n",
       "      <td>4.7</td>\n",
       "      <td>10344.1</td>\n",
       "      <td>17264</td>\n",
       "      <td>417432</td>\n",
       "    </tr>\n",
       "    <tr>\n",
       "      <th>Netherlands</th>\n",
       "      <td>6.0</td>\n",
       "      <td>708337.0</td>\n",
       "      <td>21189</td>\n",
       "      <td>16655799</td>\n",
       "    </tr>\n",
       "    <tr>\n",
       "      <th>Norway</th>\n",
       "      <td>4.7</td>\n",
       "      <td>335747.5</td>\n",
       "      <td>27670</td>\n",
       "      <td>4979954</td>\n",
       "    </tr>\n",
       "    <tr>\n",
       "      <th>Poland</th>\n",
       "      <td>6.2</td>\n",
       "      <td>426547.5</td>\n",
       "      <td>10865</td>\n",
       "      <td>38044565</td>\n",
       "    </tr>\n",
       "    <tr>\n",
       "      <th>Portugal</th>\n",
       "      <td>11.2</td>\n",
       "      <td>186480.5</td>\n",
       "      <td>10805</td>\n",
       "      <td>10562178</td>\n",
       "    </tr>\n",
       "    <tr>\n",
       "      <th>Romania</th>\n",
       "      <td>5.9</td>\n",
       "      <td>170393.6</td>\n",
       "      <td>4724</td>\n",
       "      <td>20121641</td>\n",
       "    </tr>\n",
       "    <tr>\n",
       "      <th>Slovakia</th>\n",
       "      <td>9.7</td>\n",
       "      <td>81226.1</td>\n",
       "      <td>10466</td>\n",
       "      <td>5397036</td>\n",
       "    </tr>\n",
       "    <tr>\n",
       "      <th>Slovenia</th>\n",
       "      <td>8.0</td>\n",
       "      <td>40357.2</td>\n",
       "      <td>15250</td>\n",
       "      <td>2050189</td>\n",
       "    </tr>\n",
       "    <tr>\n",
       "      <th>Spain</th>\n",
       "      <td>19.6</td>\n",
       "      <td>1118743.0</td>\n",
       "      <td>15347</td>\n",
       "      <td>46815910</td>\n",
       "    </tr>\n",
       "    <tr>\n",
       "      <th>Sweden</th>\n",
       "      <td>7.0</td>\n",
       "      <td>463147.5</td>\n",
       "      <td>20955</td>\n",
       "      <td>9482855</td>\n",
       "    </tr>\n",
       "    <tr>\n",
       "      <th>Switzerland</th>\n",
       "      <td>5.0</td>\n",
       "      <td>605753.7</td>\n",
       "      <td>27692</td>\n",
       "      <td>7954662</td>\n",
       "    </tr>\n",
       "    <tr>\n",
       "      <th>Turkey</th>\n",
       "      <td>10.9</td>\n",
       "      <td>780224.9</td>\n",
       "      <td>6501</td>\n",
       "      <td>7954662</td>\n",
       "    </tr>\n",
       "    <tr>\n",
       "      <th>United Kingdom</th>\n",
       "      <td>4.8</td>\n",
       "      <td>2403382.6</td>\n",
       "      <td>17296</td>\n",
       "      <td>63182180</td>\n",
       "    </tr>\n",
       "  </tbody>\n",
       "</table>\n",
       "</div>"
      ],
      "text/plain": [
       "                unemp_rate        gdp  median_income  total_pop\n",
       "country                                                        \n",
       "Austria                6.0   356237.6          23071    8401940\n",
       "Belgium                7.8   424660.3          21335   11000638\n",
       "Bulgaria               7.6    48128.6           6742    7364570\n",
       "Croatia               13.1    46639.5           8985    4284889\n",
       "Cyprus                13.0    18490.2          16173     840407\n",
       "Czechia                4.0   176370.1          12478   10436560\n",
       "Denmark                6.2   282089.9          21355    5560628\n",
       "Estonia                6.8    21682.6          11867    1294455\n",
       "Finland                8.8   216073.0          19997    5375276\n",
       "France                10.1  2228568.0          20621   64933400\n",
       "Germany                4.1  3159750.0          21152   80219695\n",
       "Greece                23.6   176487.9           9048   10816286\n",
       "Hungary                5.1   113903.8           8267    9937628\n",
       "Iceland                3.0    18646.1          22193     315556\n",
       "Ireland                8.4   273238.2          18286    4574888\n",
       "Italy                 11.7  1689824.0          16237   59433744\n",
       "Latvia                 9.6    25037.7           9257    2070371\n",
       "Lithuania              7.9    38849.4           9364    3043429\n",
       "Luxembourg             6.3    53303.0          28663     512353\n",
       "Malta                  4.7    10344.1          17264     417432\n",
       "Netherlands            6.0   708337.0          21189   16655799\n",
       "Norway                 4.7   335747.5          27670    4979954\n",
       "Poland                 6.2   426547.5          10865   38044565\n",
       "Portugal              11.2   186480.5          10805   10562178\n",
       "Romania                5.9   170393.6           4724   20121641\n",
       "Slovakia               9.7    81226.1          10466    5397036\n",
       "Slovenia               8.0    40357.2          15250    2050189\n",
       "Spain                 19.6  1118743.0          15347   46815910\n",
       "Sweden                 7.0   463147.5          20955    9482855\n",
       "Switzerland            5.0   605753.7          27692    7954662\n",
       "Turkey                10.9   780224.9           6501    7954662\n",
       "United Kingdom         4.8  2403382.6          17296   63182180"
      ]
     },
     "execution_count": 203,
     "metadata": {},
     "output_type": "execute_result"
    }
   ],
   "source": [
    "# But it can changed with special operations\n",
    "eur_data_country_index = eur_data_final.set_index('country')\n",
    "eur_data_country_index\n",
    "# Notice how it's on a lower line and there are no more numbers on the left!"
   ]
  },
  {
   "cell_type": "code",
   "execution_count": 205,
   "metadata": {},
   "outputs": [
    {
     "data": {
      "text/plain": [
       "unemp_rate             8.0\n",
       "gdp                40357.2\n",
       "median_income      15250.0\n",
       "total_pop        2050189.0\n",
       "Name: Slovenia, dtype: float64"
      ]
     },
     "execution_count": 205,
     "metadata": {},
     "output_type": "execute_result"
    }
   ],
   "source": [
    "eur_data_country_index.loc['Slovenia']"
   ]
  },
  {
   "cell_type": "markdown",
   "metadata": {},
   "source": [
    "### What countries have a higher unemployment rate than Slovenia and have a lowercase 't' in their name?"
   ]
  },
  {
   "cell_type": "code",
   "execution_count": 206,
   "metadata": {},
   "outputs": [
    {
     "data": {
      "text/html": [
       "<div>\n",
       "<style scoped>\n",
       "    .dataframe tbody tr th:only-of-type {\n",
       "        vertical-align: middle;\n",
       "    }\n",
       "\n",
       "    .dataframe tbody tr th {\n",
       "        vertical-align: top;\n",
       "    }\n",
       "\n",
       "    .dataframe thead th {\n",
       "        text-align: right;\n",
       "    }\n",
       "</style>\n",
       "<table border=\"1\" class=\"dataframe\">\n",
       "  <thead>\n",
       "    <tr style=\"text-align: right;\">\n",
       "      <th></th>\n",
       "      <th>country</th>\n",
       "      <th>unemp_rate</th>\n",
       "      <th>gdp</th>\n",
       "      <th>median_income</th>\n",
       "      <th>total_pop</th>\n",
       "    </tr>\n",
       "  </thead>\n",
       "  <tbody>\n",
       "    <tr>\n",
       "      <th>3</th>\n",
       "      <td>Croatia</td>\n",
       "      <td>13.1</td>\n",
       "      <td>46639.5</td>\n",
       "      <td>8985</td>\n",
       "      <td>4284889</td>\n",
       "    </tr>\n",
       "    <tr>\n",
       "      <th>15</th>\n",
       "      <td>Italy</td>\n",
       "      <td>11.7</td>\n",
       "      <td>1689824.0</td>\n",
       "      <td>16237</td>\n",
       "      <td>59433744</td>\n",
       "    </tr>\n",
       "    <tr>\n",
       "      <th>16</th>\n",
       "      <td>Latvia</td>\n",
       "      <td>9.6</td>\n",
       "      <td>25037.7</td>\n",
       "      <td>9257</td>\n",
       "      <td>2070371</td>\n",
       "    </tr>\n",
       "    <tr>\n",
       "      <th>23</th>\n",
       "      <td>Portugal</td>\n",
       "      <td>11.2</td>\n",
       "      <td>186480.5</td>\n",
       "      <td>10805</td>\n",
       "      <td>10562178</td>\n",
       "    </tr>\n",
       "  </tbody>\n",
       "</table>\n",
       "</div>"
      ],
      "text/plain": [
       "     country  unemp_rate        gdp  median_income  total_pop\n",
       "3    Croatia        13.1    46639.5           8985    4284889\n",
       "15     Italy        11.7  1689824.0          16237   59433744\n",
       "16    Latvia         9.6    25037.7           9257    2070371\n",
       "23  Portugal        11.2   186480.5          10805   10562178"
      ]
     },
     "execution_count": 206,
     "metadata": {},
     "output_type": "execute_result"
    }
   ],
   "source": [
    "slovenia_unemployment = eur_data_country_index.loc['Slovenia', 'unemp_rate']\n",
    "gt_slov = eur_data_final.unemp_rate > slovenia_unemployment\n",
    "t_names = eur_data_final.country.str.contains('t')\n",
    "eur_data_final[gt_slov & t_names]"
   ]
  },
  {
   "cell_type": "code",
   "execution_count": null,
   "metadata": {},
   "outputs": [],
   "source": []
  },
  {
   "cell_type": "code",
   "execution_count": null,
   "metadata": {},
   "outputs": [],
   "source": []
  }
 ],
 "metadata": {
  "kernelspec": {
   "display_name": "Python 3",
   "language": "python",
   "name": "python3"
  },
  "language_info": {
   "codemirror_mode": {
    "name": "ipython",
    "version": 3
   },
   "file_extension": ".py",
   "mimetype": "text/x-python",
   "name": "python",
   "nbconvert_exporter": "python",
   "pygments_lexer": "ipython3",
   "version": "3.7.5"
  }
 },
 "nbformat": 4,
 "nbformat_minor": 2
}
